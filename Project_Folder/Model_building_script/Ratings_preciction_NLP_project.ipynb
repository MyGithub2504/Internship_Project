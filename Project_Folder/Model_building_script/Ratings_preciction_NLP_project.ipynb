{
 "cells": [
  {
   "cell_type": "code",
   "execution_count": 28,
   "metadata": {},
   "outputs": [],
   "source": [
    "import pandas as pd\n",
    "import numpy as np\n",
    "import glob\n",
    "import matplotlib.pyplot as plt\n",
    "import seaborn as sns\n",
    "import warnings\n",
    "warnings.filterwarnings('ignore')\n",
    "import nltk\n",
    "import string\n",
    "import re"
   ]
  },
  {
   "cell_type": "code",
   "execution_count": 29,
   "metadata": {},
   "outputs": [],
   "source": [
    "#Get data file names\n",
    "path =r'C:\\Users\\user\\Desktop\\data\\reviewdataset'\n",
    "files = glob.glob(path + \"/*.csv\")\n",
    "df = []\n",
    "for filename in files:\n",
    "    df.append(pd.read_csv(filename))\n",
    "#Concatenate all data into one DataFrame\n",
    "RatingReview = pd.concat(df, ignore_index=True)"
   ]
  },
  {
   "cell_type": "code",
   "execution_count": 30,
   "metadata": {},
   "outputs": [
    {
     "data": {
      "text/html": [
       "<div>\n",
       "<style scoped>\n",
       "    .dataframe tbody tr th:only-of-type {\n",
       "        vertical-align: middle;\n",
       "    }\n",
       "\n",
       "    .dataframe tbody tr th {\n",
       "        vertical-align: top;\n",
       "    }\n",
       "\n",
       "    .dataframe thead th {\n",
       "        text-align: right;\n",
       "    }\n",
       "</style>\n",
       "<table border=\"1\" class=\"dataframe\">\n",
       "  <thead>\n",
       "    <tr style=\"text-align: right;\">\n",
       "      <th></th>\n",
       "      <th>Unnamed: 0</th>\n",
       "      <th>Rating</th>\n",
       "      <th>Reviews</th>\n",
       "      <th>Ratings</th>\n",
       "      <th>Unnamed: 3</th>\n",
       "    </tr>\n",
       "  </thead>\n",
       "  <tbody>\n",
       "    <tr>\n",
       "      <th>0</th>\n",
       "      <td>0</td>\n",
       "      <td>3.9 out of 5</td>\n",
       "      <td>First of all its a very good product consideri...</td>\n",
       "      <td>3.9</td>\n",
       "      <td>NaN</td>\n",
       "    </tr>\n",
       "    <tr>\n",
       "      <th>1</th>\n",
       "      <td>1</td>\n",
       "      <td>4.3 out of 5</td>\n",
       "      <td>This review is after 4 hours of continuous usa...</td>\n",
       "      <td>4.3</td>\n",
       "      <td>NaN</td>\n",
       "    </tr>\n",
       "    <tr>\n",
       "      <th>2</th>\n",
       "      <td>2</td>\n",
       "      <td>4.1 out of 5</td>\n",
       "      <td>I have purchased this boat earphone few months...</td>\n",
       "      <td>4.1</td>\n",
       "      <td>NaN</td>\n",
       "    </tr>\n",
       "    <tr>\n",
       "      <th>3</th>\n",
       "      <td>3</td>\n",
       "      <td>4.2 out of 5</td>\n",
       "      <td>This is my honest review after using it for 20...</td>\n",
       "      <td>4.2</td>\n",
       "      <td>NaN</td>\n",
       "    </tr>\n",
       "    <tr>\n",
       "      <th>4</th>\n",
       "      <td>4</td>\n",
       "      <td>4.1 out of 5</td>\n",
       "      <td>This earphones are unreliable, i bought it bef...</td>\n",
       "      <td>4.1</td>\n",
       "      <td>NaN</td>\n",
       "    </tr>\n",
       "    <tr>\n",
       "      <th>...</th>\n",
       "      <td>...</td>\n",
       "      <td>...</td>\n",
       "      <td>...</td>\n",
       "      <td>...</td>\n",
       "      <td>...</td>\n",
       "    </tr>\n",
       "    <tr>\n",
       "      <th>17658</th>\n",
       "      <td>1119</td>\n",
       "      <td>NaN</td>\n",
       "      <td>Loved the watch..\\nPros: Amazing Battery\\nNice...</td>\n",
       "      <td>4.1</td>\n",
       "      <td>NaN</td>\n",
       "    </tr>\n",
       "    <tr>\n",
       "      <th>17659</th>\n",
       "      <td>1120</td>\n",
       "      <td>NaN</td>\n",
       "      <td>Superb quality amazing watch i like it so much...</td>\n",
       "      <td>3.9</td>\n",
       "      <td>NaN</td>\n",
       "    </tr>\n",
       "    <tr>\n",
       "      <th>17660</th>\n",
       "      <td>1121</td>\n",
       "      <td>NaN</td>\n",
       "      <td>Superb quality amazing watch i like it so much...</td>\n",
       "      <td>3.9</td>\n",
       "      <td>NaN</td>\n",
       "    </tr>\n",
       "    <tr>\n",
       "      <th>17661</th>\n",
       "      <td>1122</td>\n",
       "      <td>NaN</td>\n",
       "      <td>After using it for 1 month, here is my review:...</td>\n",
       "      <td>4.3</td>\n",
       "      <td>NaN</td>\n",
       "    </tr>\n",
       "    <tr>\n",
       "      <th>17662</th>\n",
       "      <td>1123</td>\n",
       "      <td>NaN</td>\n",
       "      <td>Excellent watch at this price point..\\nAll fun...</td>\n",
       "      <td>4.3</td>\n",
       "      <td>NaN</td>\n",
       "    </tr>\n",
       "  </tbody>\n",
       "</table>\n",
       "<p>17663 rows × 5 columns</p>\n",
       "</div>"
      ],
      "text/plain": [
       "       Unnamed: 0        Rating  \\\n",
       "0               0  3.9 out of 5   \n",
       "1               1  4.3 out of 5   \n",
       "2               2  4.1 out of 5   \n",
       "3               3  4.2 out of 5   \n",
       "4               4  4.1 out of 5   \n",
       "...           ...           ...   \n",
       "17658        1119           NaN   \n",
       "17659        1120           NaN   \n",
       "17660        1121           NaN   \n",
       "17661        1122           NaN   \n",
       "17662        1123           NaN   \n",
       "\n",
       "                                                 Reviews  Ratings  Unnamed: 3  \n",
       "0      First of all its a very good product consideri...      3.9         NaN  \n",
       "1      This review is after 4 hours of continuous usa...      4.3         NaN  \n",
       "2      I have purchased this boat earphone few months...      4.1         NaN  \n",
       "3      This is my honest review after using it for 20...      4.2         NaN  \n",
       "4      This earphones are unreliable, i bought it bef...      4.1         NaN  \n",
       "...                                                  ...      ...         ...  \n",
       "17658  Loved the watch..\\nPros: Amazing Battery\\nNice...      4.1         NaN  \n",
       "17659  Superb quality amazing watch i like it so much...      3.9         NaN  \n",
       "17660  Superb quality amazing watch i like it so much...      3.9         NaN  \n",
       "17661  After using it for 1 month, here is my review:...      4.3         NaN  \n",
       "17662  Excellent watch at this price point..\\nAll fun...      4.3         NaN  \n",
       "\n",
       "[17663 rows x 5 columns]"
      ]
     },
     "execution_count": 30,
     "metadata": {},
     "output_type": "execute_result"
    }
   ],
   "source": [
    "RatingReview"
   ]
  },
  {
   "cell_type": "code",
   "execution_count": 31,
   "metadata": {},
   "outputs": [],
   "source": [
    "RatingReview=RatingReview.drop(['Unnamed: 0','Rating','Unnamed: 3'], axis=1)"
   ]
  },
  {
   "cell_type": "code",
   "execution_count": 32,
   "metadata": {},
   "outputs": [
    {
     "data": {
      "text/plain": [
       "(17663, 2)"
      ]
     },
     "execution_count": 32,
     "metadata": {},
     "output_type": "execute_result"
    }
   ],
   "source": [
    "RatingReview.shape"
   ]
  },
  {
   "cell_type": "markdown",
   "metadata": {},
   "source": [
    "The shape of the DataFrame is 17663 rows and 2 columns."
   ]
  },
  {
   "cell_type": "code",
   "execution_count": 33,
   "metadata": {},
   "outputs": [
    {
     "data": {
      "text/html": [
       "<div>\n",
       "<style scoped>\n",
       "    .dataframe tbody tr th:only-of-type {\n",
       "        vertical-align: middle;\n",
       "    }\n",
       "\n",
       "    .dataframe tbody tr th {\n",
       "        vertical-align: top;\n",
       "    }\n",
       "\n",
       "    .dataframe thead th {\n",
       "        text-align: right;\n",
       "    }\n",
       "</style>\n",
       "<table border=\"1\" class=\"dataframe\">\n",
       "  <thead>\n",
       "    <tr style=\"text-align: right;\">\n",
       "      <th></th>\n",
       "      <th>Reviews</th>\n",
       "      <th>Ratings</th>\n",
       "    </tr>\n",
       "  </thead>\n",
       "  <tbody>\n",
       "    <tr>\n",
       "      <th>0</th>\n",
       "      <td>First of all its a very good product consideri...</td>\n",
       "      <td>3.9</td>\n",
       "    </tr>\n",
       "    <tr>\n",
       "      <th>1</th>\n",
       "      <td>This review is after 4 hours of continuous usa...</td>\n",
       "      <td>4.3</td>\n",
       "    </tr>\n",
       "    <tr>\n",
       "      <th>2</th>\n",
       "      <td>I have purchased this boat earphone few months...</td>\n",
       "      <td>4.1</td>\n",
       "    </tr>\n",
       "    <tr>\n",
       "      <th>3</th>\n",
       "      <td>This is my honest review after using it for 20...</td>\n",
       "      <td>4.2</td>\n",
       "    </tr>\n",
       "    <tr>\n",
       "      <th>4</th>\n",
       "      <td>This earphones are unreliable, i bought it bef...</td>\n",
       "      <td>4.1</td>\n",
       "    </tr>\n",
       "    <tr>\n",
       "      <th>5</th>\n",
       "      <td>Totally impressed with this product\\nWecool Mo...</td>\n",
       "      <td>3.7</td>\n",
       "    </tr>\n",
       "    <tr>\n",
       "      <th>6</th>\n",
       "      <td>I have purchased this boat earphone few months...</td>\n",
       "      <td>4.1</td>\n",
       "    </tr>\n",
       "    <tr>\n",
       "      <th>7</th>\n",
       "      <td>NOTE:\\n@ There are thousands of reviews for th...</td>\n",
       "      <td>4.1</td>\n",
       "    </tr>\n",
       "    <tr>\n",
       "      <th>8</th>\n",
       "      <td>1. Great value for money\\n2. 50mm driver deliv...</td>\n",
       "      <td>4.0</td>\n",
       "    </tr>\n",
       "    <tr>\n",
       "      <th>9</th>\n",
       "      <td>This is my honest review after using it for 20...</td>\n",
       "      <td>4.2</td>\n",
       "    </tr>\n",
       "  </tbody>\n",
       "</table>\n",
       "</div>"
      ],
      "text/plain": [
       "                                             Reviews  Ratings\n",
       "0  First of all its a very good product consideri...      3.9\n",
       "1  This review is after 4 hours of continuous usa...      4.3\n",
       "2  I have purchased this boat earphone few months...      4.1\n",
       "3  This is my honest review after using it for 20...      4.2\n",
       "4  This earphones are unreliable, i bought it bef...      4.1\n",
       "5  Totally impressed with this product\\nWecool Mo...      3.7\n",
       "6  I have purchased this boat earphone few months...      4.1\n",
       "7  NOTE:\\n@ There are thousands of reviews for th...      4.1\n",
       "8  1. Great value for money\\n2. 50mm driver deliv...      4.0\n",
       "9  This is my honest review after using it for 20...      4.2"
      ]
     },
     "execution_count": 33,
     "metadata": {},
     "output_type": "execute_result"
    }
   ],
   "source": [
    "RatingReview.head(10)"
   ]
  },
  {
   "cell_type": "code",
   "execution_count": 34,
   "metadata": {},
   "outputs": [
    {
     "data": {
      "text/html": [
       "<div>\n",
       "<style scoped>\n",
       "    .dataframe tbody tr th:only-of-type {\n",
       "        vertical-align: middle;\n",
       "    }\n",
       "\n",
       "    .dataframe tbody tr th {\n",
       "        vertical-align: top;\n",
       "    }\n",
       "\n",
       "    .dataframe thead th {\n",
       "        text-align: right;\n",
       "    }\n",
       "</style>\n",
       "<table border=\"1\" class=\"dataframe\">\n",
       "  <thead>\n",
       "    <tr style=\"text-align: right;\">\n",
       "      <th></th>\n",
       "      <th>Reviews</th>\n",
       "      <th>Ratings</th>\n",
       "    </tr>\n",
       "  </thead>\n",
       "  <tbody>\n",
       "    <tr>\n",
       "      <th>17653</th>\n",
       "      <td>Loved the watch..\\nPros: Amazing Battery\\nNice...</td>\n",
       "      <td>4.1</td>\n",
       "    </tr>\n",
       "    <tr>\n",
       "      <th>17654</th>\n",
       "      <td>I am using it from a day. It's really good loo...</td>\n",
       "      <td>4.1</td>\n",
       "    </tr>\n",
       "    <tr>\n",
       "      <th>17655</th>\n",
       "      <td>I am using it from a day. It's really good loo...</td>\n",
       "      <td>4.1</td>\n",
       "    </tr>\n",
       "    <tr>\n",
       "      <th>17656</th>\n",
       "      <td>I am using it from a day. It's really good loo...</td>\n",
       "      <td>4.1</td>\n",
       "    </tr>\n",
       "    <tr>\n",
       "      <th>17657</th>\n",
       "      <td>Watch is really good and lt budget friendly. I...</td>\n",
       "      <td>4.1</td>\n",
       "    </tr>\n",
       "    <tr>\n",
       "      <th>17658</th>\n",
       "      <td>Loved the watch..\\nPros: Amazing Battery\\nNice...</td>\n",
       "      <td>4.1</td>\n",
       "    </tr>\n",
       "    <tr>\n",
       "      <th>17659</th>\n",
       "      <td>Superb quality amazing watch i like it so much...</td>\n",
       "      <td>3.9</td>\n",
       "    </tr>\n",
       "    <tr>\n",
       "      <th>17660</th>\n",
       "      <td>Superb quality amazing watch i like it so much...</td>\n",
       "      <td>3.9</td>\n",
       "    </tr>\n",
       "    <tr>\n",
       "      <th>17661</th>\n",
       "      <td>After using it for 1 month, here is my review:...</td>\n",
       "      <td>4.3</td>\n",
       "    </tr>\n",
       "    <tr>\n",
       "      <th>17662</th>\n",
       "      <td>Excellent watch at this price point..\\nAll fun...</td>\n",
       "      <td>4.3</td>\n",
       "    </tr>\n",
       "  </tbody>\n",
       "</table>\n",
       "</div>"
      ],
      "text/plain": [
       "                                                 Reviews  Ratings\n",
       "17653  Loved the watch..\\nPros: Amazing Battery\\nNice...      4.1\n",
       "17654  I am using it from a day. It's really good loo...      4.1\n",
       "17655  I am using it from a day. It's really good loo...      4.1\n",
       "17656  I am using it from a day. It's really good loo...      4.1\n",
       "17657  Watch is really good and lt budget friendly. I...      4.1\n",
       "17658  Loved the watch..\\nPros: Amazing Battery\\nNice...      4.1\n",
       "17659  Superb quality amazing watch i like it so much...      3.9\n",
       "17660  Superb quality amazing watch i like it so much...      3.9\n",
       "17661  After using it for 1 month, here is my review:...      4.3\n",
       "17662  Excellent watch at this price point..\\nAll fun...      4.3"
      ]
     },
     "execution_count": 34,
     "metadata": {},
     "output_type": "execute_result"
    }
   ],
   "source": [
    "RatingReview.tail(10)"
   ]
  },
  {
   "cell_type": "code",
   "execution_count": 35,
   "metadata": {},
   "outputs": [
    {
     "data": {
      "text/html": [
       "<div>\n",
       "<style scoped>\n",
       "    .dataframe tbody tr th:only-of-type {\n",
       "        vertical-align: middle;\n",
       "    }\n",
       "\n",
       "    .dataframe tbody tr th {\n",
       "        vertical-align: top;\n",
       "    }\n",
       "\n",
       "    .dataframe thead th {\n",
       "        text-align: right;\n",
       "    }\n",
       "</style>\n",
       "<table border=\"1\" class=\"dataframe\">\n",
       "  <thead>\n",
       "    <tr style=\"text-align: right;\">\n",
       "      <th></th>\n",
       "      <th>Reviews</th>\n",
       "      <th>Ratings</th>\n",
       "    </tr>\n",
       "  </thead>\n",
       "  <tbody>\n",
       "    <tr>\n",
       "      <th>1175</th>\n",
       "      <td>Awsome service by flipkart... Got delivery wit...</td>\n",
       "      <td>4.0</td>\n",
       "    </tr>\n",
       "    <tr>\n",
       "      <th>6910</th>\n",
       "      <td>I am a homemaker, though we have bought the sp...</td>\n",
       "      <td>3.8</td>\n",
       "    </tr>\n",
       "    <tr>\n",
       "      <th>16788</th>\n",
       "      <td>I have used from 1 weeks and it's really good ...</td>\n",
       "      <td>4.3</td>\n",
       "    </tr>\n",
       "    <tr>\n",
       "      <th>9665</th>\n",
       "      <td>The monitor was superb picture quality\\nIn one...</td>\n",
       "      <td>4.1</td>\n",
       "    </tr>\n",
       "    <tr>\n",
       "      <th>16617</th>\n",
       "      <td>Good smart watch with amoled display under 5k</td>\n",
       "      <td>4.3</td>\n",
       "    </tr>\n",
       "    <tr>\n",
       "      <th>10723</th>\n",
       "      <td>A Great Camera having incredible image quality...</td>\n",
       "      <td>4.4</td>\n",
       "    </tr>\n",
       "    <tr>\n",
       "      <th>6796</th>\n",
       "      <td>Awesome sound, Room shaking, worth buying, sou...</td>\n",
       "      <td>4.1</td>\n",
       "    </tr>\n",
       "    <tr>\n",
       "      <th>16996</th>\n",
       "      <td>Watch was awesome my wife fully satisfied with...</td>\n",
       "      <td>4.3</td>\n",
       "    </tr>\n",
       "    <tr>\n",
       "      <th>11080</th>\n",
       "      <td>I have had used many Redmi phones. I am compar...</td>\n",
       "      <td>4.2</td>\n",
       "    </tr>\n",
       "    <tr>\n",
       "      <th>97</th>\n",
       "      <td>Nice product...👍👍..</td>\n",
       "      <td>4.0</td>\n",
       "    </tr>\n",
       "  </tbody>\n",
       "</table>\n",
       "</div>"
      ],
      "text/plain": [
       "                                                 Reviews  Ratings\n",
       "1175   Awsome service by flipkart... Got delivery wit...      4.0\n",
       "6910   I am a homemaker, though we have bought the sp...      3.8\n",
       "16788  I have used from 1 weeks and it's really good ...      4.3\n",
       "9665   The monitor was superb picture quality\\nIn one...      4.1\n",
       "16617      Good smart watch with amoled display under 5k      4.3\n",
       "10723  A Great Camera having incredible image quality...      4.4\n",
       "6796   Awesome sound, Room shaking, worth buying, sou...      4.1\n",
       "16996  Watch was awesome my wife fully satisfied with...      4.3\n",
       "11080  I have had used many Redmi phones. I am compar...      4.2\n",
       "97                                   Nice product...👍👍..      4.0"
      ]
     },
     "execution_count": 35,
     "metadata": {},
     "output_type": "execute_result"
    }
   ],
   "source": [
    "RatingReview.sample(10)"
   ]
  },
  {
   "cell_type": "code",
   "execution_count": 36,
   "metadata": {},
   "outputs": [
    {
     "data": {
      "text/plain": [
       "Reviews    45\n",
       "Ratings     0\n",
       "dtype: int64"
      ]
     },
     "execution_count": 36,
     "metadata": {},
     "output_type": "execute_result"
    }
   ],
   "source": [
    "RatingReview.isnull().sum()"
   ]
  },
  {
   "cell_type": "markdown",
   "metadata": {},
   "source": [
    "The dataset is having 45 null values in Reviews."
   ]
  },
  {
   "cell_type": "code",
   "execution_count": 37,
   "metadata": {},
   "outputs": [],
   "source": [
    "RatingReview['Ratings']= RatingReview['Ratings'].round()"
   ]
  },
  {
   "cell_type": "code",
   "execution_count": 38,
   "metadata": {},
   "outputs": [
    {
     "data": {
      "text/html": [
       "<div>\n",
       "<style scoped>\n",
       "    .dataframe tbody tr th:only-of-type {\n",
       "        vertical-align: middle;\n",
       "    }\n",
       "\n",
       "    .dataframe tbody tr th {\n",
       "        vertical-align: top;\n",
       "    }\n",
       "\n",
       "    .dataframe thead th {\n",
       "        text-align: right;\n",
       "    }\n",
       "</style>\n",
       "<table border=\"1\" class=\"dataframe\">\n",
       "  <thead>\n",
       "    <tr style=\"text-align: right;\">\n",
       "      <th></th>\n",
       "      <th>Reviews</th>\n",
       "      <th>Ratings</th>\n",
       "    </tr>\n",
       "  </thead>\n",
       "  <tbody>\n",
       "    <tr>\n",
       "      <th>7622</th>\n",
       "      <td>Great laptop for the price, i add 8gb ram (gek...</td>\n",
       "      <td>4.0</td>\n",
       "    </tr>\n",
       "    <tr>\n",
       "      <th>4164</th>\n",
       "      <td>This Sub-Woofer is excellent in this price as ...</td>\n",
       "      <td>4.0</td>\n",
       "    </tr>\n",
       "    <tr>\n",
       "      <th>7526</th>\n",
       "      <td>Writing review after 15 day of use.It is absol...</td>\n",
       "      <td>5.0</td>\n",
       "    </tr>\n",
       "    <tr>\n",
       "      <th>17364</th>\n",
       "      <td>Nice and good fearture everything is fine i am...</td>\n",
       "      <td>4.0</td>\n",
       "    </tr>\n",
       "    <tr>\n",
       "      <th>7015</th>\n",
       "      <td>Awesome sound, Room shaking, worth buying, sou...</td>\n",
       "      <td>4.0</td>\n",
       "    </tr>\n",
       "    <tr>\n",
       "      <th>6094</th>\n",
       "      <td>Excellent product in budget .i m loving it.i p...</td>\n",
       "      <td>4.0</td>\n",
       "    </tr>\n",
       "    <tr>\n",
       "      <th>5537</th>\n",
       "      <td>Super sound and bass</td>\n",
       "      <td>4.0</td>\n",
       "    </tr>\n",
       "    <tr>\n",
       "      <th>14355</th>\n",
       "      <td>This product works like a charm! It has extend...</td>\n",
       "      <td>4.0</td>\n",
       "    </tr>\n",
       "    <tr>\n",
       "      <th>15957</th>\n",
       "      <td>I've switched over from the Galaxy Watch to th...</td>\n",
       "      <td>4.0</td>\n",
       "    </tr>\n",
       "    <tr>\n",
       "      <th>11867</th>\n",
       "      <td>This is a good phona &amp; low price\\nCanara is ve...</td>\n",
       "      <td>4.0</td>\n",
       "    </tr>\n",
       "  </tbody>\n",
       "</table>\n",
       "</div>"
      ],
      "text/plain": [
       "                                                 Reviews  Ratings\n",
       "7622   Great laptop for the price, i add 8gb ram (gek...      4.0\n",
       "4164   This Sub-Woofer is excellent in this price as ...      4.0\n",
       "7526   Writing review after 15 day of use.It is absol...      5.0\n",
       "17364  Nice and good fearture everything is fine i am...      4.0\n",
       "7015   Awesome sound, Room shaking, worth buying, sou...      4.0\n",
       "6094   Excellent product in budget .i m loving it.i p...      4.0\n",
       "5537                                Super sound and bass      4.0\n",
       "14355  This product works like a charm! It has extend...      4.0\n",
       "15957  I've switched over from the Galaxy Watch to th...      4.0\n",
       "11867  This is a good phona & low price\\nCanara is ve...      4.0"
      ]
     },
     "execution_count": 38,
     "metadata": {},
     "output_type": "execute_result"
    }
   ],
   "source": [
    "RatingReview.sample(10)"
   ]
  },
  {
   "cell_type": "code",
   "execution_count": 39,
   "metadata": {},
   "outputs": [],
   "source": [
    "RatingReview['Ratings']= RatingReview['Ratings'].astype(int)"
   ]
  },
  {
   "cell_type": "code",
   "execution_count": 40,
   "metadata": {},
   "outputs": [],
   "source": [
    "RatingReview=RatingReview.dropna()"
   ]
  },
  {
   "cell_type": "code",
   "execution_count": 41,
   "metadata": {},
   "outputs": [
    {
     "data": {
      "text/plain": [
       "Reviews    0\n",
       "Ratings    0\n",
       "dtype: int64"
      ]
     },
     "execution_count": 41,
     "metadata": {},
     "output_type": "execute_result"
    }
   ],
   "source": [
    "RatingReview.isnull().sum()"
   ]
  },
  {
   "cell_type": "code",
   "execution_count": 42,
   "metadata": {},
   "outputs": [
    {
     "data": {
      "text/plain": [
       "Reviews    object\n",
       "Ratings     int32\n",
       "dtype: object"
      ]
     },
     "execution_count": 42,
     "metadata": {},
     "output_type": "execute_result"
    }
   ],
   "source": [
    "RatingReview.dtypes"
   ]
  },
  {
   "cell_type": "code",
   "execution_count": 43,
   "metadata": {},
   "outputs": [
    {
     "name": "stdout",
     "output_type": "stream",
     "text": [
      "<class 'pandas.core.frame.DataFrame'>\n",
      "Int64Index: 17618 entries, 0 to 17662\n",
      "Data columns (total 2 columns):\n",
      " #   Column   Non-Null Count  Dtype \n",
      "---  ------   --------------  ----- \n",
      " 0   Reviews  17618 non-null  object\n",
      " 1   Ratings  17618 non-null  int32 \n",
      "dtypes: int32(1), object(1)\n",
      "memory usage: 344.1+ KB\n"
     ]
    }
   ],
   "source": [
    "RatingReview.info()"
   ]
  },
  {
   "cell_type": "markdown",
   "metadata": {},
   "source": [
    "## EDA Analysis"
   ]
  },
  {
   "cell_type": "code",
   "execution_count": 44,
   "metadata": {},
   "outputs": [
    {
     "name": "stdout",
     "output_type": "stream",
     "text": [
      "4    15524\n",
      "3     1029\n",
      "5      975\n",
      "2       52\n",
      "1       38\n",
      "Name: Ratings, dtype: int64\n"
     ]
    },
    {
     "data": {
      "text/plain": [
       "<AxesSubplot:ylabel='Ratings'>"
      ]
     },
     "execution_count": 44,
     "metadata": {},
     "output_type": "execute_result"
    },
    {
     "data": {
      "image/png": "[encoded data removed]",
      "text/plain": [
       "<Figure size 432x288 with 1 Axes>"
      ]
     },
     "metadata": {
      "needs_background": "light"
     },
     "output_type": "display_data"
    }
   ],
   "source": [
    "x=RatingReview['Ratings'].value_counts()\n",
    "print(x)\n",
    "sns.barplot(x.index,x)"
   ]
  },
  {
   "cell_type": "code",
   "execution_count": 45,
   "metadata": {},
   "outputs": [
    {
     "name": "stdout",
     "output_type": "stream",
     "text": [
      "79.8157894736842\n",
      "56.98076923076923\n",
      "53.42662779397473\n",
      "63.75380056686421\n",
      "70.79384615384615\n"
     ]
    }
   ],
   "source": [
    "#word_count\n",
    "RatingReview['word_count'] = RatingReview['Reviews'].apply(lambda x: len(str(x).split()))\n",
    "print(RatingReview[RatingReview['Ratings']==1]['word_count'].mean()) \n",
    "print(RatingReview[RatingReview['Ratings']==2]['word_count'].mean()) \n",
    "print(RatingReview[RatingReview['Ratings']==3]['word_count'].mean())\n",
    "print(RatingReview[RatingReview['Ratings']==4]['word_count'].mean()) \n",
    "print(RatingReview[RatingReview['Ratings']==5]['word_count'].mean()) "
   ]
  },
  {
   "cell_type": "markdown",
   "metadata": {},
   "source": [
    "From the average wordcount we have Ratings=5 have highest average wordcount and Ratings=3 have lowest average wordcount. "
   ]
  },
  {
   "cell_type": "code",
   "execution_count": 46,
   "metadata": {},
   "outputs": [
    {
     "data": {
      "image/png": "[encoded data removed]",
      "text/plain": [
       "<Figure size 720x288 with 2 Axes>"
      ]
     },
     "metadata": {
      "needs_background": "light"
     },
     "output_type": "display_data"
    }
   ],
   "source": [
    "#plotting word_count\n",
    "fig,(ax1,ax2)=plt.subplots(1,2,figsize=(10,4))\n",
    "train_words=RatingReview[RatingReview['Ratings']==1]['word_count']\n",
    "ax1.hist(train_words,color='Red')\n",
    "ax1.set_title('Rating is 1')\n",
    "train_words=RatingReview[RatingReview['Ratings']==2]['word_count']\n",
    "ax2.hist(train_words,color='Green')\n",
    "ax2.set_title('Rating is 2')\n",
    "fig.suptitle('Average wordcount')\n",
    "plt.show()"
   ]
  },
  {
   "cell_type": "code",
   "execution_count": 47,
   "metadata": {},
   "outputs": [
    {
     "data": {
      "image/png": "[encoded data removed]",
      "text/plain": [
       "<Figure size 720x288 with 2 Axes>"
      ]
     },
     "metadata": {
      "needs_background": "light"
     },
     "output_type": "display_data"
    }
   ],
   "source": [
    "fig,(ax3,ax4)=plt.subplots(1,2,figsize=(10,4))\n",
    "train_words=RatingReview[RatingReview['Ratings']==3]['word_count']\n",
    "ax3.hist(train_words,color='Magenta')\n",
    "ax3.set_title('Rating is 3')\n",
    "train_words=RatingReview[RatingReview['Ratings']==4]['word_count']\n",
    "ax4.hist(train_words,color='Blue')\n",
    "ax4.set_title('Rating is 4')\n",
    "fig.suptitle('Average wordcount')\n",
    "plt.show()"
   ]
  },
  {
   "cell_type": "code",
   "execution_count": 48,
   "metadata": {},
   "outputs": [
    {
     "data": {
      "image/png": "[encoded data removed]",
      "text/plain": [
       "<Figure size 720x288 with 1 Axes>"
      ]
     },
     "metadata": {
      "needs_background": "light"
     },
     "output_type": "display_data"
    }
   ],
   "source": [
    "fig,(ax5)=plt.subplots(1,figsize=(10,4))\n",
    "train_words=RatingReview[RatingReview['Ratings']==5]['word_count']\n",
    "ax5.hist(train_words,color='Cyan')\n",
    "ax5.set_title('Rating is 5')\n",
    "fig.suptitle('Average wordcount')\n",
    "plt.show()"
   ]
  },
  {
   "cell_type": "code",
   "execution_count": 49,
   "metadata": {},
   "outputs": [
    {
     "name": "stdout",
     "output_type": "stream",
     "text": [
      "435.7105263157895\n",
      "308.0192307692308\n",
      "292.3654033041788\n",
      "353.6182040711157\n",
      "390.0625641025641\n"
     ]
    }
   ],
   "source": [
    "#character-count\n",
    "RatingReview['char_count'] = RatingReview['Reviews'].apply(lambda x: len(str(x)))\n",
    "print(RatingReview[RatingReview['Ratings']==1]['char_count'].mean()) \n",
    "print(RatingReview[RatingReview['Ratings']==2]['char_count'].mean()) \n",
    "print(RatingReview[RatingReview['Ratings']==3]['char_count'].mean()) \n",
    "print(RatingReview[RatingReview['Ratings']==4]['char_count'].mean()) \n",
    "print(RatingReview[RatingReview['Ratings']==5]['char_count'].mean()) "
   ]
  },
  {
   "cell_type": "code",
   "execution_count": 50,
   "metadata": {},
   "outputs": [
    {
     "data": {
      "image/png": "[encoded data removed]",
      "text/plain": [
       "<Figure size 720x288 with 2 Axes>"
      ]
     },
     "metadata": {
      "needs_background": "light"
     },
     "output_type": "display_data"
    }
   ],
   "source": [
    "#plotting character_count\n",
    "fig,(ax1,ax2)=plt.subplots(1,2,figsize=(10,4))\n",
    "train_words=RatingReview[RatingReview['Ratings']==1]['char_count']\n",
    "ax1.hist(train_words,color='Red')\n",
    "ax1.set_title('Rating is 1')\n",
    "train_words=RatingReview[RatingReview['Ratings']==2]['char_count']\n",
    "ax2.hist(train_words,color='Green')\n",
    "ax2.set_title('Rating is 2')\n",
    "fig.suptitle('Average charcount')\n",
    "plt.show()"
   ]
  },
  {
   "cell_type": "code",
   "execution_count": 51,
   "metadata": {},
   "outputs": [
    {
     "data": {
      "image/png": "[encoded data removed]",
      "text/plain": [
       "<Figure size 720x288 with 2 Axes>"
      ]
     },
     "metadata": {
      "needs_background": "light"
     },
     "output_type": "display_data"
    }
   ],
   "source": [
    "fig,(ax3,ax4)=plt.subplots(1,2,figsize=(10,4))\n",
    "train_words=RatingReview[RatingReview['Ratings']==3]['char_count']\n",
    "ax3.hist(train_words,color='Magenta')\n",
    "ax3.set_title('Rating is 3')\n",
    "train_words=RatingReview[RatingReview['Ratings']==4]['char_count']\n",
    "ax4.hist(train_words,color='Blue')\n",
    "ax4.set_title('Rating is 4')\n",
    "fig.suptitle('Average character_count')\n",
    "plt.show()"
   ]
  },
  {
   "cell_type": "code",
   "execution_count": 52,
   "metadata": {},
   "outputs": [
    {
     "data": {
      "image/png": "[encoded data removed]",
      "text/plain": [
       "<Figure size 720x288 with 1 Axes>"
      ]
     },
     "metadata": {
      "needs_background": "light"
     },
     "output_type": "display_data"
    }
   ],
   "source": [
    "fig,(ax5)=plt.subplots(1,figsize=(10,4))\n",
    "train_words=RatingReview[RatingReview['Ratings']==5]['char_count']\n",
    "ax5.hist(train_words,color='Cyan')\n",
    "ax5.set_title('Rating is 5')\n",
    "fig.suptitle('Average character_count')\n",
    "plt.show()"
   ]
  },
  {
   "cell_type": "markdown",
   "metadata": {},
   "source": [
    "From the character count we can say that Ratings=1 has maximum number of character count whereas Ratings=3 have minimum number of character count"
   ]
  },
  {
   "cell_type": "markdown",
   "metadata": {},
   "source": [
    "## Text Preprocessing"
   ]
  },
  {
   "cell_type": "code",
   "execution_count": 53,
   "metadata": {},
   "outputs": [
    {
     "name": "stdout",
     "output_type": "stream",
     "text": [
      "Requirement already satisfied: nltk in c:\\users\\user\\anaconda3\\lib\\site-packages (3.5)\n",
      "Requirement already satisfied: tqdm in c:\\users\\user\\anaconda3\\lib\\site-packages (from nltk) (4.50.2)\n",
      "Requirement already satisfied: click in c:\\users\\user\\anaconda3\\lib\\site-packages (from nltk) (7.1.2)\n",
      "Requirement already satisfied: joblib in c:\\users\\user\\anaconda3\\lib\\site-packages (from nltk) (0.17.0)\n",
      "Requirement already satisfied: regex in c:\\users\\user\\anaconda3\\lib\\site-packages (from nltk) (2020.10.15)\n"
     ]
    }
   ],
   "source": [
    "!pip install nltk"
   ]
  },
  {
   "cell_type": "code",
   "execution_count": 54,
   "metadata": {},
   "outputs": [],
   "source": [
    "import nltk\n",
    "import string"
   ]
  },
  {
   "cell_type": "markdown",
   "metadata": {},
   "source": [
    "#### Lower Case"
   ]
  },
  {
   "cell_type": "code",
   "execution_count": 55,
   "metadata": {},
   "outputs": [
    {
     "data": {
      "text/html": [
       "<div>\n",
       "<style scoped>\n",
       "    .dataframe tbody tr th:only-of-type {\n",
       "        vertical-align: middle;\n",
       "    }\n",
       "\n",
       "    .dataframe tbody tr th {\n",
       "        vertical-align: top;\n",
       "    }\n",
       "\n",
       "    .dataframe thead th {\n",
       "        text-align: right;\n",
       "    }\n",
       "</style>\n",
       "<table border=\"1\" class=\"dataframe\">\n",
       "  <thead>\n",
       "    <tr style=\"text-align: right;\">\n",
       "      <th></th>\n",
       "      <th>Reviews</th>\n",
       "      <th>Ratings</th>\n",
       "      <th>word_count</th>\n",
       "      <th>char_count</th>\n",
       "    </tr>\n",
       "  </thead>\n",
       "  <tbody>\n",
       "    <tr>\n",
       "      <th>0</th>\n",
       "      <td>first of all its a very good product consideri...</td>\n",
       "      <td>4</td>\n",
       "      <td>123</td>\n",
       "      <td>656</td>\n",
       "    </tr>\n",
       "    <tr>\n",
       "      <th>1</th>\n",
       "      <td>this review is after 4 hours of continuous usa...</td>\n",
       "      <td>4</td>\n",
       "      <td>277</td>\n",
       "      <td>1625</td>\n",
       "    </tr>\n",
       "    <tr>\n",
       "      <th>2</th>\n",
       "      <td>i have purchased this boat earphone few months...</td>\n",
       "      <td>4</td>\n",
       "      <td>217</td>\n",
       "      <td>1305</td>\n",
       "    </tr>\n",
       "    <tr>\n",
       "      <th>3</th>\n",
       "      <td>this is my honest review after using it for 20...</td>\n",
       "      <td>4</td>\n",
       "      <td>63</td>\n",
       "      <td>309</td>\n",
       "    </tr>\n",
       "    <tr>\n",
       "      <th>4</th>\n",
       "      <td>this earphones are unreliable, i bought it bef...</td>\n",
       "      <td>4</td>\n",
       "      <td>68</td>\n",
       "      <td>374</td>\n",
       "    </tr>\n",
       "  </tbody>\n",
       "</table>\n",
       "</div>"
      ],
      "text/plain": [
       "                                             Reviews  Ratings  word_count  \\\n",
       "0  first of all its a very good product consideri...        4         123   \n",
       "1  this review is after 4 hours of continuous usa...        4         277   \n",
       "2  i have purchased this boat earphone few months...        4         217   \n",
       "3  this is my honest review after using it for 20...        4          63   \n",
       "4  this earphones are unreliable, i bought it bef...        4          68   \n",
       "\n",
       "   char_count  \n",
       "0         656  \n",
       "1        1625  \n",
       "2        1305  \n",
       "3         309  \n",
       "4         374  "
      ]
     },
     "execution_count": 55,
     "metadata": {},
     "output_type": "execute_result"
    }
   ],
   "source": [
    "RatingReview[\"Reviews\"] = RatingReview[\"Reviews\"].str.lower()\n",
    "RatingReview.head()"
   ]
  },
  {
   "cell_type": "code",
   "execution_count": 56,
   "metadata": {},
   "outputs": [],
   "source": [
    "RatingReview.drop(['word_count','char_count'], axis=1, inplace=True)"
   ]
  },
  {
   "cell_type": "code",
   "execution_count": 57,
   "metadata": {},
   "outputs": [],
   "source": [
    "RatingReview['Reviews']=RatingReview['Reviews'].astype('str')"
   ]
  },
  {
   "cell_type": "markdown",
   "metadata": {},
   "source": [
    "#### Removing Punctuation"
   ]
  },
  {
   "cell_type": "code",
   "execution_count": 58,
   "metadata": {},
   "outputs": [
    {
     "data": {
      "text/plain": [
       "'!\"#$%&\\'()*+,-./:;<=>?@[\\\\]^_`{|}~'"
      ]
     },
     "execution_count": 58,
     "metadata": {},
     "output_type": "execute_result"
    }
   ],
   "source": [
    "import re\n",
    "import string\n",
    "string.punctuation"
   ]
  },
  {
   "cell_type": "code",
   "execution_count": 59,
   "metadata": {},
   "outputs": [],
   "source": [
    "#remove punctuation\n",
    "RatingReview['Reviews'] = RatingReview['Reviews'].apply(lambda x: re.sub('[%s]' % re.escape(string.punctuation), '' , x))"
   ]
  },
  {
   "cell_type": "code",
   "execution_count": 60,
   "metadata": {},
   "outputs": [
    {
     "data": {
      "text/html": [
       "<div>\n",
       "<style scoped>\n",
       "    .dataframe tbody tr th:only-of-type {\n",
       "        vertical-align: middle;\n",
       "    }\n",
       "\n",
       "    .dataframe tbody tr th {\n",
       "        vertical-align: top;\n",
       "    }\n",
       "\n",
       "    .dataframe thead th {\n",
       "        text-align: right;\n",
       "    }\n",
       "</style>\n",
       "<table border=\"1\" class=\"dataframe\">\n",
       "  <thead>\n",
       "    <tr style=\"text-align: right;\">\n",
       "      <th></th>\n",
       "      <th>Reviews</th>\n",
       "      <th>Ratings</th>\n",
       "    </tr>\n",
       "  </thead>\n",
       "  <tbody>\n",
       "    <tr>\n",
       "      <th>0</th>\n",
       "      <td>first of all its a very good product consideri...</td>\n",
       "      <td>4</td>\n",
       "    </tr>\n",
       "    <tr>\n",
       "      <th>1</th>\n",
       "      <td>this review is after 4 hours of continuous usa...</td>\n",
       "      <td>4</td>\n",
       "    </tr>\n",
       "    <tr>\n",
       "      <th>2</th>\n",
       "      <td>i have purchased this boat earphone few months...</td>\n",
       "      <td>4</td>\n",
       "    </tr>\n",
       "    <tr>\n",
       "      <th>3</th>\n",
       "      <td>this is my honest review after using it for 20...</td>\n",
       "      <td>4</td>\n",
       "    </tr>\n",
       "    <tr>\n",
       "      <th>4</th>\n",
       "      <td>this earphones are unreliable i bought it befo...</td>\n",
       "      <td>4</td>\n",
       "    </tr>\n",
       "    <tr>\n",
       "      <th>...</th>\n",
       "      <td>...</td>\n",
       "      <td>...</td>\n",
       "    </tr>\n",
       "    <tr>\n",
       "      <th>17658</th>\n",
       "      <td>loved the watch\\npros amazing battery\\nnice di...</td>\n",
       "      <td>4</td>\n",
       "    </tr>\n",
       "    <tr>\n",
       "      <th>17659</th>\n",
       "      <td>superb quality amazing watch i like it so much...</td>\n",
       "      <td>4</td>\n",
       "    </tr>\n",
       "    <tr>\n",
       "      <th>17660</th>\n",
       "      <td>superb quality amazing watch i like it so much...</td>\n",
       "      <td>4</td>\n",
       "    </tr>\n",
       "    <tr>\n",
       "      <th>17661</th>\n",
       "      <td>after using it for 1 month here is my review\\n...</td>\n",
       "      <td>4</td>\n",
       "    </tr>\n",
       "    <tr>\n",
       "      <th>17662</th>\n",
       "      <td>excellent watch at this price point\\nall funct...</td>\n",
       "      <td>4</td>\n",
       "    </tr>\n",
       "  </tbody>\n",
       "</table>\n",
       "<p>17618 rows × 2 columns</p>\n",
       "</div>"
      ],
      "text/plain": [
       "                                                 Reviews  Ratings\n",
       "0      first of all its a very good product consideri...        4\n",
       "1      this review is after 4 hours of continuous usa...        4\n",
       "2      i have purchased this boat earphone few months...        4\n",
       "3      this is my honest review after using it for 20...        4\n",
       "4      this earphones are unreliable i bought it befo...        4\n",
       "...                                                  ...      ...\n",
       "17658  loved the watch\\npros amazing battery\\nnice di...        4\n",
       "17659  superb quality amazing watch i like it so much...        4\n",
       "17660  superb quality amazing watch i like it so much...        4\n",
       "17661  after using it for 1 month here is my review\\n...        4\n",
       "17662  excellent watch at this price point\\nall funct...        4\n",
       "\n",
       "[17618 rows x 2 columns]"
      ]
     },
     "execution_count": 60,
     "metadata": {},
     "output_type": "execute_result"
    }
   ],
   "source": [
    "RatingReview"
   ]
  },
  {
   "cell_type": "markdown",
   "metadata": {},
   "source": [
    "#### Removing Numbers and words containing digits"
   ]
  },
  {
   "cell_type": "code",
   "execution_count": 61,
   "metadata": {},
   "outputs": [],
   "source": [
    "# Remove numbers  \n",
    "RatingReview['Reviews'] = RatingReview['Reviews'].apply(lambda x: re.sub('W*dw*','',x))"
   ]
  },
  {
   "cell_type": "code",
   "execution_count": 62,
   "metadata": {},
   "outputs": [
    {
     "data": {
      "text/html": [
       "<div>\n",
       "<style scoped>\n",
       "    .dataframe tbody tr th:only-of-type {\n",
       "        vertical-align: middle;\n",
       "    }\n",
       "\n",
       "    .dataframe tbody tr th {\n",
       "        vertical-align: top;\n",
       "    }\n",
       "\n",
       "    .dataframe thead th {\n",
       "        text-align: right;\n",
       "    }\n",
       "</style>\n",
       "<table border=\"1\" class=\"dataframe\">\n",
       "  <thead>\n",
       "    <tr style=\"text-align: right;\">\n",
       "      <th></th>\n",
       "      <th>Reviews</th>\n",
       "      <th>Ratings</th>\n",
       "    </tr>\n",
       "  </thead>\n",
       "  <tbody>\n",
       "    <tr>\n",
       "      <th>0</th>\n",
       "      <td>first of all its a very goo prouct consiering ...</td>\n",
       "      <td>4</td>\n",
       "    </tr>\n",
       "    <tr>\n",
       "      <th>1</th>\n",
       "      <td>this review is after 4 hours of continuous usa...</td>\n",
       "      <td>4</td>\n",
       "    </tr>\n",
       "    <tr>\n",
       "      <th>2</th>\n",
       "      <td>i have purchase this boat earphone few months ...</td>\n",
       "      <td>4</td>\n",
       "    </tr>\n",
       "    <tr>\n",
       "      <th>3</th>\n",
       "      <td>this is my honest review after using it for 20...</td>\n",
       "      <td>4</td>\n",
       "    </tr>\n",
       "    <tr>\n",
       "      <th>4</th>\n",
       "      <td>this earphones are unreliable i bought it befo...</td>\n",
       "      <td>4</td>\n",
       "    </tr>\n",
       "    <tr>\n",
       "      <th>...</th>\n",
       "      <td>...</td>\n",
       "      <td>...</td>\n",
       "    </tr>\n",
       "    <tr>\n",
       "      <th>17658</th>\n",
       "      <td>love the watch\\npros amazing battery\\nnice isp...</td>\n",
       "      <td>4</td>\n",
       "    </tr>\n",
       "    <tr>\n",
       "      <th>17659</th>\n",
       "      <td>superb quality amazing watch i like it so much...</td>\n",
       "      <td>4</td>\n",
       "    </tr>\n",
       "    <tr>\n",
       "      <th>17660</th>\n",
       "      <td>superb quality amazing watch i like it so much...</td>\n",
       "      <td>4</td>\n",
       "    </tr>\n",
       "    <tr>\n",
       "      <th>17661</th>\n",
       "      <td>after using it for 1 month here is my review\\n...</td>\n",
       "      <td>4</td>\n",
       "    </tr>\n",
       "    <tr>\n",
       "      <th>17662</th>\n",
       "      <td>excellent watch at this price point\\nall funct...</td>\n",
       "      <td>4</td>\n",
       "    </tr>\n",
       "  </tbody>\n",
       "</table>\n",
       "<p>17618 rows × 2 columns</p>\n",
       "</div>"
      ],
      "text/plain": [
       "                                                 Reviews  Ratings\n",
       "0      first of all its a very goo prouct consiering ...        4\n",
       "1      this review is after 4 hours of continuous usa...        4\n",
       "2      i have purchase this boat earphone few months ...        4\n",
       "3      this is my honest review after using it for 20...        4\n",
       "4      this earphones are unreliable i bought it befo...        4\n",
       "...                                                  ...      ...\n",
       "17658  love the watch\\npros amazing battery\\nnice isp...        4\n",
       "17659  superb quality amazing watch i like it so much...        4\n",
       "17660  superb quality amazing watch i like it so much...        4\n",
       "17661  after using it for 1 month here is my review\\n...        4\n",
       "17662  excellent watch at this price point\\nall funct...        4\n",
       "\n",
       "[17618 rows x 2 columns]"
      ]
     },
     "execution_count": 62,
     "metadata": {},
     "output_type": "execute_result"
    }
   ],
   "source": [
    "RatingReview"
   ]
  },
  {
   "cell_type": "markdown",
   "metadata": {},
   "source": [
    "#### Removal of Stopwords"
   ]
  },
  {
   "cell_type": "code",
   "execution_count": 63,
   "metadata": {},
   "outputs": [
    {
     "data": {
      "text/plain": [
       "\"i, me, my, myself, we, our, ours, ourselves, you, you're, you've, you'll, you'd, your, yours, yourself, yourselves, he, him, his, himself, she, she's, her, hers, herself, it, it's, its, itself, they, them, their, theirs, themselves, what, which, who, whom, this, that, that'll, these, those, am, is, are, was, were, be, been, being, have, has, had, having, do, does, did, doing, a, an, the, and, but, if, or, because, as, until, while, of, at, by, for, with, about, against, between, into, through, during, before, after, above, below, to, from, up, down, in, out, on, off, over, under, again, further, then, once, here, there, when, where, why, how, all, any, both, each, few, more, most, other, some, such, no, nor, not, only, own, same, so, than, too, very, s, t, can, will, just, don, don't, should, should've, now, d, ll, m, o, re, ve, y, ain, aren, aren't, couldn, couldn't, didn, didn't, doesn, doesn't, hadn, hadn't, hasn, hasn't, haven, haven't, isn, isn't, ma, mightn, mightn't, mustn, mustn't, needn, needn't, shan, shan't, shouldn, shouldn't, wasn, wasn't, weren, weren't, won, won't, wouldn, wouldn't\""
      ]
     },
     "execution_count": 63,
     "metadata": {},
     "output_type": "execute_result"
    }
   ],
   "source": [
    "from nltk.corpus import stopwords\n",
    "\", \".join(stopwords.words('english'))"
   ]
  },
  {
   "cell_type": "code",
   "execution_count": 64,
   "metadata": {},
   "outputs": [],
   "source": [
    "#remove stopwords\n",
    "from nltk.corpus import stopwords\n",
    "stop_words = set(stopwords.words('english'))\n",
    "stop_words.add('subject')\n",
    "stop_words.add('http')\n",
    "def remove_stopwords(text):\n",
    "    return \" \".join([word for word in str(text).split() if word not in stop_words])\n",
    "RatingReview['Reviews'] = RatingReview['Reviews'].apply(lambda x: remove_stopwords(x))"
   ]
  },
  {
   "cell_type": "code",
   "execution_count": 65,
   "metadata": {},
   "outputs": [
    {
     "data": {
      "text/html": [
       "<div>\n",
       "<style scoped>\n",
       "    .dataframe tbody tr th:only-of-type {\n",
       "        vertical-align: middle;\n",
       "    }\n",
       "\n",
       "    .dataframe tbody tr th {\n",
       "        vertical-align: top;\n",
       "    }\n",
       "\n",
       "    .dataframe thead th {\n",
       "        text-align: right;\n",
       "    }\n",
       "</style>\n",
       "<table border=\"1\" class=\"dataframe\">\n",
       "  <thead>\n",
       "    <tr style=\"text-align: right;\">\n",
       "      <th></th>\n",
       "      <th>Reviews</th>\n",
       "      <th>Ratings</th>\n",
       "    </tr>\n",
       "  </thead>\n",
       "  <tbody>\n",
       "    <tr>\n",
       "      <th>0</th>\n",
       "      <td>first goo prouct consiering price soun 55 bass...</td>\n",
       "      <td>4</td>\n",
       "    </tr>\n",
       "    <tr>\n",
       "      <th>1</th>\n",
       "      <td>review 4 hours continuous usage first ay expos...</td>\n",
       "      <td>4</td>\n",
       "    </tr>\n",
       "    <tr>\n",
       "      <th>2</th>\n",
       "      <td>purchase boat earphone months ago😊 im sharing ...</td>\n",
       "      <td>4</td>\n",
       "    </tr>\n",
       "    <tr>\n",
       "      <th>3</th>\n",
       "      <td>honest review using 20 ays price range best on...</td>\n",
       "      <td>4</td>\n",
       "    </tr>\n",
       "    <tr>\n",
       "      <th>4</th>\n",
       "      <td>earphones unreliable bought 15 ays meanwhile r...</td>\n",
       "      <td>4</td>\n",
       "    </tr>\n",
       "    <tr>\n",
       "      <th>...</th>\n",
       "      <td>...</td>\n",
       "      <td>...</td>\n",
       "    </tr>\n",
       "    <tr>\n",
       "      <th>17658</th>\n",
       "      <td>love watch pros amazing battery nice isplay am...</td>\n",
       "      <td>4</td>\n",
       "    </tr>\n",
       "    <tr>\n",
       "      <th>17659</th>\n",
       "      <td>superb quality amazing watch like much super f...</td>\n",
       "      <td>4</td>\n",
       "    </tr>\n",
       "    <tr>\n",
       "      <th>17660</th>\n",
       "      <td>superb quality amazing watch like much super f...</td>\n",
       "      <td>4</td>\n",
       "    </tr>\n",
       "    <tr>\n",
       "      <th>17661</th>\n",
       "      <td>using 1 month review 1 charging realme watch 1...</td>\n",
       "      <td>4</td>\n",
       "    </tr>\n",
       "    <tr>\n",
       "      <th>17662</th>\n",
       "      <td>excellent watch price point functinlons work p...</td>\n",
       "      <td>4</td>\n",
       "    </tr>\n",
       "  </tbody>\n",
       "</table>\n",
       "<p>17618 rows × 2 columns</p>\n",
       "</div>"
      ],
      "text/plain": [
       "                                                 Reviews  Ratings\n",
       "0      first goo prouct consiering price soun 55 bass...        4\n",
       "1      review 4 hours continuous usage first ay expos...        4\n",
       "2      purchase boat earphone months ago😊 im sharing ...        4\n",
       "3      honest review using 20 ays price range best on...        4\n",
       "4      earphones unreliable bought 15 ays meanwhile r...        4\n",
       "...                                                  ...      ...\n",
       "17658  love watch pros amazing battery nice isplay am...        4\n",
       "17659  superb quality amazing watch like much super f...        4\n",
       "17660  superb quality amazing watch like much super f...        4\n",
       "17661  using 1 month review 1 charging realme watch 1...        4\n",
       "17662  excellent watch price point functinlons work p...        4\n",
       "\n",
       "[17618 rows x 2 columns]"
      ]
     },
     "execution_count": 65,
     "metadata": {},
     "output_type": "execute_result"
    }
   ],
   "source": [
    "RatingReview"
   ]
  },
  {
   "cell_type": "markdown",
   "metadata": {},
   "source": [
    "#### Removal of Frequent Words"
   ]
  },
  {
   "cell_type": "code",
   "execution_count": 66,
   "metadata": {},
   "outputs": [
    {
     "data": {
      "text/plain": [
       "[('goo', 15900),\n",
       " ('quality', 8023),\n",
       " ('prouct', 7950),\n",
       " ('soun', 6637),\n",
       " ('price', 5184),\n",
       " ('bass', 4911),\n",
       " ('watch', 4895),\n",
       " ('use', 4639),\n",
       " ('like', 4425),\n",
       " ('also', 3769),\n",
       " ('2', 3684),\n",
       " ('battery', 3626),\n",
       " ('best', 3508),\n",
       " ('monitor', 3461),\n",
       " ('one', 3424),\n",
       " ('awesome', 3213),\n",
       " ('great', 3162),\n",
       " ('nice', 3033),\n",
       " ('isplay', 3013),\n",
       " ('1', 2999)]"
      ]
     },
     "execution_count": 66,
     "metadata": {},
     "output_type": "execute_result"
    }
   ],
   "source": [
    "from collections import Counter\n",
    "cnt = Counter()\n",
    "for text in RatingReview[\"Reviews\"].values:\n",
    "    for word in text.split():\n",
    "        cnt[word] += 1\n",
    "        \n",
    "cnt.most_common(20)"
   ]
  },
  {
   "cell_type": "code",
   "execution_count": 67,
   "metadata": {},
   "outputs": [
    {
     "data": {
      "text/html": [
       "<div>\n",
       "<style scoped>\n",
       "    .dataframe tbody tr th:only-of-type {\n",
       "        vertical-align: middle;\n",
       "    }\n",
       "\n",
       "    .dataframe tbody tr th {\n",
       "        vertical-align: top;\n",
       "    }\n",
       "\n",
       "    .dataframe thead th {\n",
       "        text-align: right;\n",
       "    }\n",
       "</style>\n",
       "<table border=\"1\" class=\"dataframe\">\n",
       "  <thead>\n",
       "    <tr style=\"text-align: right;\">\n",
       "      <th></th>\n",
       "      <th>Reviews</th>\n",
       "      <th>Ratings</th>\n",
       "    </tr>\n",
       "  </thead>\n",
       "  <tbody>\n",
       "    <tr>\n",
       "      <th>0</th>\n",
       "      <td>first consiering 55 55 pls note excellent ont ...</td>\n",
       "      <td>4</td>\n",
       "    </tr>\n",
       "    <tr>\n",
       "      <th>1</th>\n",
       "      <td>review 4 hours continuous usage first ay expos...</td>\n",
       "      <td>4</td>\n",
       "    </tr>\n",
       "    <tr>\n",
       "      <th>2</th>\n",
       "      <td>purchase boat earphone months ago😊 im sharing ...</td>\n",
       "      <td>4</td>\n",
       "    </tr>\n",
       "    <tr>\n",
       "      <th>3</th>\n",
       "      <td>honest review using 20 ays range best onethe p...</td>\n",
       "      <td>4</td>\n",
       "    </tr>\n",
       "    <tr>\n",
       "      <th>4</th>\n",
       "      <td>earphones unreliable bought 15 ays meanwhile r...</td>\n",
       "      <td>4</td>\n",
       "    </tr>\n",
       "    <tr>\n",
       "      <th>5</th>\n",
       "      <td>totally impresse wecool moonwalk m3 earbus ama...</td>\n",
       "      <td>4</td>\n",
       "    </tr>\n",
       "    <tr>\n",
       "      <th>6</th>\n",
       "      <td>purchase boat earphone months ago😊 im sharing ...</td>\n",
       "      <td>4</td>\n",
       "    </tr>\n",
       "    <tr>\n",
       "      <th>7</th>\n",
       "      <td>note thousans reviews surprisingly theres harl...</td>\n",
       "      <td>4</td>\n",
       "    </tr>\n",
       "    <tr>\n",
       "      <th>8</th>\n",
       "      <td>1 great value money 2 50mm river elivers souns...</td>\n",
       "      <td>4</td>\n",
       "    </tr>\n",
       "    <tr>\n",
       "      <th>9</th>\n",
       "      <td>honest review using 20 ays range best onethe p...</td>\n",
       "      <td>4</td>\n",
       "    </tr>\n",
       "  </tbody>\n",
       "</table>\n",
       "</div>"
      ],
      "text/plain": [
       "                                             Reviews  Ratings\n",
       "0  first consiering 55 55 pls note excellent ont ...        4\n",
       "1  review 4 hours continuous usage first ay expos...        4\n",
       "2  purchase boat earphone months ago😊 im sharing ...        4\n",
       "3  honest review using 20 ays range best onethe p...        4\n",
       "4  earphones unreliable bought 15 ays meanwhile r...        4\n",
       "5  totally impresse wecool moonwalk m3 earbus ama...        4\n",
       "6  purchase boat earphone months ago😊 im sharing ...        4\n",
       "7  note thousans reviews surprisingly theres harl...        4\n",
       "8  1 great value money 2 50mm river elivers souns...        4\n",
       "9  honest review using 20 ays range best onethe p...        4"
      ]
     },
     "execution_count": 67,
     "metadata": {},
     "output_type": "execute_result"
    }
   ],
   "source": [
    "freqwords = set([w for (w, wc) in cnt.most_common(10)])\n",
    "def remove_frequent(text):\n",
    "    \"\"\"custom function to remove the frequent words\"\"\"\n",
    "    return \" \".join([word for word in str(text).split() if word not in freqwords])\n",
    "\n",
    "RatingReview[\"Reviews\"] = RatingReview[\"Reviews\"].apply(lambda text: remove_frequent(text))\n",
    "RatingReview.head(10)"
   ]
  },
  {
   "cell_type": "markdown",
   "metadata": {},
   "source": [
    "#### Removal of Rare Words"
   ]
  },
  {
   "cell_type": "code",
   "execution_count": 68,
   "metadata": {},
   "outputs": [
    {
     "data": {
      "text/html": [
       "<div>\n",
       "<style scoped>\n",
       "    .dataframe tbody tr th:only-of-type {\n",
       "        vertical-align: middle;\n",
       "    }\n",
       "\n",
       "    .dataframe tbody tr th {\n",
       "        vertical-align: top;\n",
       "    }\n",
       "\n",
       "    .dataframe thead th {\n",
       "        text-align: right;\n",
       "    }\n",
       "</style>\n",
       "<table border=\"1\" class=\"dataframe\">\n",
       "  <thead>\n",
       "    <tr style=\"text-align: right;\">\n",
       "      <th></th>\n",
       "      <th>Reviews</th>\n",
       "      <th>Ratings</th>\n",
       "    </tr>\n",
       "  </thead>\n",
       "  <tbody>\n",
       "    <tr>\n",
       "      <th>0</th>\n",
       "      <td>first consiering 55 55 pls note excellent ont ...</td>\n",
       "      <td>4</td>\n",
       "    </tr>\n",
       "    <tr>\n",
       "      <th>1</th>\n",
       "      <td>review 4 hours continuous usage first ay expos...</td>\n",
       "      <td>4</td>\n",
       "    </tr>\n",
       "    <tr>\n",
       "      <th>2</th>\n",
       "      <td>purchase boat earphone months ago😊 im sharing ...</td>\n",
       "      <td>4</td>\n",
       "    </tr>\n",
       "    <tr>\n",
       "      <th>3</th>\n",
       "      <td>honest review using 20 ays range best onethe p...</td>\n",
       "      <td>4</td>\n",
       "    </tr>\n",
       "    <tr>\n",
       "      <th>4</th>\n",
       "      <td>earphones unreliable bought 15 ays meanwhile r...</td>\n",
       "      <td>4</td>\n",
       "    </tr>\n",
       "  </tbody>\n",
       "</table>\n",
       "</div>"
      ],
      "text/plain": [
       "                                             Reviews  Ratings\n",
       "0  first consiering 55 55 pls note excellent ont ...        4\n",
       "1  review 4 hours continuous usage first ay expos...        4\n",
       "2  purchase boat earphone months ago😊 im sharing ...        4\n",
       "3  honest review using 20 ays range best onethe p...        4\n",
       "4  earphones unreliable bought 15 ays meanwhile r...        4"
      ]
     },
     "execution_count": 68,
     "metadata": {},
     "output_type": "execute_result"
    }
   ],
   "source": [
    "n_rare_words = 10\n",
    "RAREWORDS = set([w for (w, wc) in cnt.most_common()[:-n_rare_words-1:-1]])\n",
    "def remove_rarewords(text):\n",
    "    \"\"\"custom function to remove the rare words\"\"\"\n",
    "    return \" \".join([word for word in str(text).split() if word not in RAREWORDS])\n",
    "\n",
    "RatingReview[\"Reviews\"] = RatingReview[\"Reviews\"].apply(lambda text: remove_rarewords(text))\n",
    "RatingReview.head()"
   ]
  },
  {
   "cell_type": "markdown",
   "metadata": {},
   "source": [
    "#### Lemmatization"
   ]
  },
  {
   "cell_type": "code",
   "execution_count": 69,
   "metadata": {},
   "outputs": [
    {
     "data": {
      "text/plain": [
       "0    first consiering 55 55 pls note excellent ont ...\n",
       "1    review 4 hour continuous usage first ay expose...\n",
       "2    purchase boat earphone month ago😊 im share exp...\n",
       "3    honest review use 20 ays range best onethe pro...\n",
       "4    earphone unreliable buy 15 ays meanwhile right...\n",
       "Name: Reviews, dtype: object"
      ]
     },
     "execution_count": 69,
     "metadata": {},
     "output_type": "execute_result"
    }
   ],
   "source": [
    "from nltk.corpus import wordnet\n",
    "from nltk.stem import WordNetLemmatizer\n",
    "\n",
    "lemmatizer = WordNetLemmatizer()\n",
    "wordnet_map = {\"N\":wordnet.NOUN, \"V\":wordnet.VERB, \"J\":wordnet.ADJ, \"R\":wordnet.ADV}\n",
    "def lemmatize_words(text):\n",
    "    pos_tagged_text = nltk.pos_tag(text.split())\n",
    "    return \" \".join([lemmatizer.lemmatize(word, wordnet_map.get(pos[0], wordnet.NOUN)) for word, pos in pos_tagged_text])\n",
    "\n",
    "RatingReview[\"Reviews\"] = RatingReview[\"Reviews\"].apply(lambda text: lemmatize_words(text))\n",
    "RatingReview[\"Reviews\"].head()"
   ]
  },
  {
   "cell_type": "markdown",
   "metadata": {},
   "source": [
    "####  Emojis Removal"
   ]
  },
  {
   "cell_type": "code",
   "execution_count": 70,
   "metadata": {},
   "outputs": [
    {
     "name": "stdout",
     "output_type": "stream",
     "text": [
      "Requirement already satisfied: emoji in c:\\users\\user\\anaconda3\\lib\\site-packages (1.6.1)\n"
     ]
    }
   ],
   "source": [
    "!pip install emoji"
   ]
  },
  {
   "cell_type": "code",
   "execution_count": 71,
   "metadata": {},
   "outputs": [],
   "source": [
    "def emoji_removal(string):\n",
    "    emoji_pattern = re.compile(\"[\"\n",
    "                           u\"\\U0001F600-\\U0001F64F\"  # emoticons\n",
    "                           u\"\\U0001F300-\\U0001F5FF\"  # symbols & pictographs\n",
    "                           u\"\\U0001F680-\\U0001F6FF\"  # transport & map symbols\n",
    "                           u\"\\U0001F1E0-\\U0001F1FF\"  # flags (iOS)\n",
    "                           u\"\\U00002702-\\U000027B0\"\n",
    "                           u\"\\U000024C2-\\U0001F251\"\n",
    "                           \"]+\", flags=re.UNICODE)\n",
    "    return emoji_pattern.sub(r'', string)"
   ]
  },
  {
   "cell_type": "code",
   "execution_count": 72,
   "metadata": {},
   "outputs": [],
   "source": [
    "RatingReview[\"Reviews\"] = RatingReview[\"Reviews\"].apply(emoji_removal)"
   ]
  },
  {
   "cell_type": "code",
   "execution_count": 73,
   "metadata": {},
   "outputs": [
    {
     "data": {
      "text/html": [
       "<div>\n",
       "<style scoped>\n",
       "    .dataframe tbody tr th:only-of-type {\n",
       "        vertical-align: middle;\n",
       "    }\n",
       "\n",
       "    .dataframe tbody tr th {\n",
       "        vertical-align: top;\n",
       "    }\n",
       "\n",
       "    .dataframe thead th {\n",
       "        text-align: right;\n",
       "    }\n",
       "</style>\n",
       "<table border=\"1\" class=\"dataframe\">\n",
       "  <thead>\n",
       "    <tr style=\"text-align: right;\">\n",
       "      <th></th>\n",
       "      <th>Reviews</th>\n",
       "      <th>Ratings</th>\n",
       "    </tr>\n",
       "  </thead>\n",
       "  <tbody>\n",
       "    <tr>\n",
       "      <th>0</th>\n",
       "      <td>first consiering 55 55 pls note excellent ont ...</td>\n",
       "      <td>4</td>\n",
       "    </tr>\n",
       "    <tr>\n",
       "      <th>1</th>\n",
       "      <td>review 4 hour continuous usage first ay expose...</td>\n",
       "      <td>4</td>\n",
       "    </tr>\n",
       "    <tr>\n",
       "      <th>2</th>\n",
       "      <td>purchase boat earphone month ago im share expe...</td>\n",
       "      <td>4</td>\n",
       "    </tr>\n",
       "    <tr>\n",
       "      <th>3</th>\n",
       "      <td>honest review use 20 ays range best onethe pro...</td>\n",
       "      <td>4</td>\n",
       "    </tr>\n",
       "    <tr>\n",
       "      <th>4</th>\n",
       "      <td>earphone unreliable buy 15 ays meanwhile right...</td>\n",
       "      <td>4</td>\n",
       "    </tr>\n",
       "    <tr>\n",
       "      <th>...</th>\n",
       "      <td>...</td>\n",
       "      <td>...</td>\n",
       "    </tr>\n",
       "    <tr>\n",
       "      <th>17658</th>\n",
       "      <td>love pro amaze battery nice isplay amole woul ...</td>\n",
       "      <td>4</td>\n",
       "    </tr>\n",
       "    <tr>\n",
       "      <th>17659</th>\n",
       "      <td>superb amaze much super fast elivery 22 hour</td>\n",
       "      <td>4</td>\n",
       "    </tr>\n",
       "    <tr>\n",
       "      <th>17660</th>\n",
       "      <td>superb amaze much super fast elivery 22 hour</td>\n",
       "      <td>4</td>\n",
       "    </tr>\n",
       "    <tr>\n",
       "      <th>17661</th>\n",
       "      <td>use 1 month review 1 charge realme 100 100 34 ...</td>\n",
       "      <td>4</td>\n",
       "    </tr>\n",
       "    <tr>\n",
       "      <th>17662</th>\n",
       "      <td>excellent point functinlons work properly call...</td>\n",
       "      <td>4</td>\n",
       "    </tr>\n",
       "  </tbody>\n",
       "</table>\n",
       "<p>17618 rows × 2 columns</p>\n",
       "</div>"
      ],
      "text/plain": [
       "                                                 Reviews  Ratings\n",
       "0      first consiering 55 55 pls note excellent ont ...        4\n",
       "1      review 4 hour continuous usage first ay expose...        4\n",
       "2      purchase boat earphone month ago im share expe...        4\n",
       "3      honest review use 20 ays range best onethe pro...        4\n",
       "4      earphone unreliable buy 15 ays meanwhile right...        4\n",
       "...                                                  ...      ...\n",
       "17658  love pro amaze battery nice isplay amole woul ...        4\n",
       "17659       superb amaze much super fast elivery 22 hour        4\n",
       "17660       superb amaze much super fast elivery 22 hour        4\n",
       "17661  use 1 month review 1 charge realme 100 100 34 ...        4\n",
       "17662  excellent point functinlons work properly call...        4\n",
       "\n",
       "[17618 rows x 2 columns]"
      ]
     },
     "execution_count": 73,
     "metadata": {},
     "output_type": "execute_result"
    }
   ],
   "source": [
    "RatingReview"
   ]
  },
  {
   "cell_type": "markdown",
   "metadata": {},
   "source": [
    "#### URL Removal"
   ]
  },
  {
   "cell_type": "code",
   "execution_count": 74,
   "metadata": {},
   "outputs": [],
   "source": [
    "def urls_removal(text):\n",
    "    url_pattern = re.compile(r'https?://\\S+|www\\.\\S+')\n",
    "    return url_pattern.sub(r'', text)"
   ]
  },
  {
   "cell_type": "code",
   "execution_count": 75,
   "metadata": {},
   "outputs": [],
   "source": [
    "RatingReview['Reviews'] = RatingReview['Reviews'].apply(urls_removal)"
   ]
  },
  {
   "cell_type": "markdown",
   "metadata": {},
   "source": [
    "#### HTML Tags Removal"
   ]
  },
  {
   "cell_type": "code",
   "execution_count": 76,
   "metadata": {},
   "outputs": [],
   "source": [
    "def html_removal(text):\n",
    "    html_pattern = re.compile('<.*?>')\n",
    "    return html_pattern.sub(r'', text)"
   ]
  },
  {
   "cell_type": "code",
   "execution_count": 77,
   "metadata": {},
   "outputs": [],
   "source": [
    "RatingReview['Reviews'] = RatingReview['Reviews'].apply(urls_removal)"
   ]
  },
  {
   "cell_type": "code",
   "execution_count": 78,
   "metadata": {},
   "outputs": [
    {
     "data": {
      "text/plain": [
       "0        first consiering 55 55 pls note excellent ont ...\n",
       "1        review 4 hour continuous usage first ay expose...\n",
       "2        purchase boat earphone month ago im share expe...\n",
       "3        honest review use 20 ays range best onethe pro...\n",
       "4        earphone unreliable buy 15 ays meanwhile right...\n",
       "                               ...                        \n",
       "17658    love pro amaze battery nice isplay amole woul ...\n",
       "17659         superb amaze much super fast elivery 22 hour\n",
       "17660         superb amaze much super fast elivery 22 hour\n",
       "17661    use 1 month review 1 charge realme 100 100 34 ...\n",
       "17662    excellent point functinlons work properly call...\n",
       "Name: Reviews, Length: 17618, dtype: object"
      ]
     },
     "execution_count": 78,
     "metadata": {},
     "output_type": "execute_result"
    }
   ],
   "source": [
    "RatingReview['Reviews']"
   ]
  },
  {
   "cell_type": "markdown",
   "metadata": {},
   "source": [
    "## Data Preparation"
   ]
  },
  {
   "cell_type": "code",
   "execution_count": 79,
   "metadata": {},
   "outputs": [
    {
     "name": "stdout",
     "output_type": "stream",
     "text": [
      "Requirement already satisfied: xgboost in c:\\users\\user\\anaconda3\\lib\\site-packages (1.5.1)\n",
      "Requirement already satisfied: scipy in c:\\users\\user\\anaconda3\\lib\\site-packages (from xgboost) (1.5.2)\n",
      "Requirement already satisfied: numpy in c:\\users\\user\\anaconda3\\lib\\site-packages (from xgboost) (1.19.2)\n"
     ]
    }
   ],
   "source": [
    "!pip install xgboost"
   ]
  },
  {
   "cell_type": "code",
   "execution_count": 80,
   "metadata": {},
   "outputs": [
    {
     "name": "stdout",
     "output_type": "stream",
     "text": [
      "Requirement already satisfied: keras in c:\\users\\user\\anaconda3\\lib\\site-packages (2.7.0)\n"
     ]
    }
   ],
   "source": [
    "!pip install keras"
   ]
  },
  {
   "cell_type": "code",
   "execution_count": 81,
   "metadata": {},
   "outputs": [],
   "source": [
    "from sklearn import model_selection, preprocessing, linear_model, naive_bayes, metrics, svm\n",
    "from sklearn.feature_extraction.text import TfidfVectorizer, CountVectorizer\n",
    "from sklearn import decomposition, ensemble\n",
    "from sklearn.neighbors import KNeighborsClassifier\n",
    "from sklearn.tree import DecisionTreeClassifier\n",
    "from sklearn.ensemble import GradientBoostingClassifier\n",
    "from keras.preprocessing.text import Tokenizer\n",
    "from keras.preprocessing.sequence import pad_sequences\n",
    "\n",
    "import pandas, xgboost, numpy, textblob, string\n",
    "from keras.preprocessing import text, sequence\n",
    "from keras import layers, models, optimizers\n",
    "from keras.models import Model\n",
    "from keras.layers import Input\n",
    "from keras.layers import Dense\n",
    "from sklearn.metrics import accuracy_score,confusion_matrix,classification_report\n",
    "import tensorflow as tf\n",
    "from numpy import array"
   ]
  },
  {
   "cell_type": "code",
   "execution_count": 82,
   "metadata": {},
   "outputs": [],
   "source": [
    "# split the dataset into training and validation datasets \n",
    "train_x, valid_x, train_y, valid_y = model_selection.train_test_split(RatingReview['Reviews'], RatingReview['Ratings'])\n",
    "\n",
    "# label encode the target variable \n",
    "encoder = preprocessing.LabelEncoder()\n",
    "train_y = encoder.fit_transform(train_y)\n",
    "valid_y = encoder.fit_transform(valid_y)"
   ]
  },
  {
   "cell_type": "markdown",
   "metadata": {},
   "source": [
    "## Feature Engineering"
   ]
  },
  {
   "cell_type": "markdown",
   "metadata": {},
   "source": [
    "In the feature Engineering we will use different ideas to obtain relevant features from the dataset."
   ]
  },
  {
   "cell_type": "markdown",
   "metadata": {},
   "source": [
    "#### Count Vectors as features"
   ]
  },
  {
   "cell_type": "code",
   "execution_count": 83,
   "metadata": {},
   "outputs": [],
   "source": [
    "# create a count vectorizer object\n",
    "count_vect = CountVectorizer(analyzer='word', token_pattern=r'\\w{1,}', lowercase=False)\n",
    "count_vect.fit(RatingReview['Reviews'])\n",
    "\n",
    "# transform the training and validation data using count vectorizer object\n",
    "xtrain_count =  count_vect.transform(train_x)\n",
    "xvalid_count =  count_vect.transform(valid_x)"
   ]
  },
  {
   "cell_type": "markdown",
   "metadata": {},
   "source": [
    "#### TF-IDF Vectors as features"
   ]
  },
  {
   "cell_type": "code",
   "execution_count": 84,
   "metadata": {},
   "outputs": [],
   "source": [
    "# word level tf-idf\n",
    "tfidf_vect = TfidfVectorizer(analyzer='word', token_pattern=r'\\w{1,}', max_features=20000)\n",
    "tfidf_vect.fit(RatingReview['Reviews'])\n",
    "xtrain_tfidf =  tfidf_vect.transform(train_x)\n",
    "xvalid_tfidf =  tfidf_vect.transform(valid_x)\n",
    "\n",
    "# ngram level tf-idf \n",
    "tfidf_vect_ngram = TfidfVectorizer(analyzer='word', token_pattern=r'\\w{1,}', ngram_range=(2,3), max_features=20000)\n",
    "tfidf_vect_ngram.fit(RatingReview['Reviews'])\n",
    "xtrain_tfidf_ngram =  tfidf_vect_ngram.transform(train_x)\n",
    "xvalid_tfidf_ngram =  tfidf_vect_ngram.transform(valid_x)\n",
    "\n",
    "# characters level tf-idf\n",
    "tfidf_vect_ngram_chars = TfidfVectorizer(analyzer='char', token_pattern=r'\\w{1,}', ngram_range=(2,3), max_features=20000)\n",
    "tfidf_vect_ngram_chars.fit(RatingReview['Reviews'])\n",
    "xtrain_tfidf_ngram_chars =  tfidf_vect_ngram_chars.transform(train_x) \n",
    "xvalid_tfidf_ngram_chars =  tfidf_vect_ngram_chars.transform(valid_x)"
   ]
  },
  {
   "cell_type": "markdown",
   "metadata": {},
   "source": [
    "### Word Embeddings"
   ]
  },
  {
   "cell_type": "code",
   "execution_count": 85,
   "metadata": {},
   "outputs": [],
   "source": [
    "# create a tokenizer \n",
    "token = text.Tokenizer()\n",
    "token.fit_on_texts(RatingReview['Reviews'])\n",
    "word_index = token.word_index\n",
    "\n",
    "# convert text to sequence of tokens and pad them to ensure equal length vectors \n",
    "train_seq_x = sequence.pad_sequences(token.texts_to_sequences(train_x), maxlen=70)\n",
    "valid_seq_x = sequence.pad_sequences(token.texts_to_sequences(valid_x), maxlen=70)"
   ]
  },
  {
   "cell_type": "markdown",
   "metadata": {},
   "source": [
    "### Now we will select NLP based features"
   ]
  },
  {
   "cell_type": "code",
   "execution_count": 86,
   "metadata": {},
   "outputs": [],
   "source": [
    "RatingReview['char_count'] = RatingReview['Reviews'].apply(len)\n",
    "RatingReview['word_count'] = RatingReview['Reviews'].apply(lambda x: len(x.split()))\n",
    "RatingReview['word_density'] = RatingReview['char_count'] / (RatingReview['word_count']+1)\n",
    "RatingReview['punctuation_count'] = RatingReview['Reviews'].apply(lambda x: len(\"\".join(_ for _ in x if _ in string.punctuation))) \n",
    "RatingReview['title_word_count'] = RatingReview['Reviews'].apply(lambda x: len([wrd for wrd in x.split() if wrd.istitle()]))\n",
    "RatingReview['upper_case_word_count'] = RatingReview['Reviews'].apply(lambda x: len([wrd for wrd in x.split() if wrd.isupper()]))"
   ]
  },
  {
   "cell_type": "code",
   "execution_count": 87,
   "metadata": {},
   "outputs": [],
   "source": [
    "pos_family = {\n",
    "    'noun' : ['NN','NNS','NNP','NNPS'],\n",
    "    'pron' : ['PRP','PRP$','WP','WP$'],\n",
    "    'verb' : ['VB','VBD','VBG','VBN','VBP','VBZ'],\n",
    "    'adj' :  ['JJ','JJR','JJS'],\n",
    "    'adv' : ['RB','RBR','RBS','WRB']\n",
    "}\n",
    "\n",
    "# function to check and get the part of speech tag count of a words in a given sentence\n",
    "def check_pos_tag(x, flag):\n",
    "    cnt = 0\n",
    "    try:\n",
    "        wiki = textblob.TextBlob(x)\n",
    "        for tup in wiki.tags:\n",
    "            ppo = list(tup)[1]\n",
    "            if ppo in pos_family[flag]:\n",
    "                cnt += 1\n",
    "    except:\n",
    "        pass\n",
    "    return cnt\n",
    "\n",
    "RatingReview['noun_count'] = RatingReview['Reviews'].apply(lambda x: check_pos_tag(x, 'noun'))\n",
    "RatingReview['verb_count'] = RatingReview['Reviews'].apply(lambda x: check_pos_tag(x, 'verb'))\n",
    "RatingReview['adj_count'] = RatingReview['Reviews'].apply(lambda x: check_pos_tag(x, 'adj'))\n",
    "RatingReview['adv_count'] = RatingReview['Reviews'].apply(lambda x: check_pos_tag(x, 'adv'))\n",
    "RatingReview['pron_count'] = RatingReview['Reviews'].apply(lambda x: check_pos_tag(x, 'pron'))"
   ]
  },
  {
   "cell_type": "markdown",
   "metadata": {},
   "source": [
    "# Machine Learning Models"
   ]
  },
  {
   "cell_type": "markdown",
   "metadata": {},
   "source": [
    "### Defining Classifier Model"
   ]
  },
  {
   "cell_type": "code",
   "execution_count": 97,
   "metadata": {},
   "outputs": [],
   "source": [
    "def model_training(classifier, feature_vector_train, label, feature_vector_valid, is_neural_net=False):\n",
    "    # fit the training dataset on the classifier\n",
    "    classifier.fit(feature_vector_train, label)\n",
    "    \n",
    "    # predict the labels on validation dataset\n",
    "    predictions = classifier.predict(feature_vector_valid)\n",
    "    \n",
    "    if is_neural_net:\n",
    "        predictions = predictions.argmax(axis=-1)\n",
    "    \n",
    "    return [metrics.accuracy_score(predictions, valid_y),metrics.confusion_matrix(predictions, valid_y),metrics.classification_report(predictions, valid_y)];"
   ]
  },
  {
   "cell_type": "markdown",
   "metadata": {},
   "source": [
    "### Naive Bayes Classification Model"
   ]
  },
  {
   "cell_type": "code",
   "execution_count": 99,
   "metadata": {},
   "outputs": [
    {
     "name": "stdout",
     "output_type": "stream",
     "text": [
      "NB, Count Vectors:  [0.8308740068104427, array([[   0,    0,    0,    3,    0],\n",
      "       [   0,    0,    0,    3,    2],\n",
      "       [   2,    1,  118,  136,    6],\n",
      "       [   3,    8,  138, 3464,  153],\n",
      "       [   0,    0,    7,  283,   78]], dtype=int64), '              precision    recall  f1-score   support\\n\\n           0       0.00      0.00      0.00         3\\n           1       0.00      0.00      0.00         5\\n           2       0.45      0.45      0.45       263\\n           3       0.89      0.92      0.91      3766\\n           4       0.33      0.21      0.26       368\\n\\n    accuracy                           0.83      4405\\n   macro avg       0.33      0.32      0.32      4405\\nweighted avg       0.82      0.83      0.82      4405\\n']\n",
      "Confusion Matrix: <function confusion_matrix at 0x000002C81835B550>\n",
      "Classification_Report: <function classification_report at 0x000002C81835BDC0>\n",
      "NB, WordLevel TF-IDF:  [0.8887627695800226, array([[   0,    0,    0,    0,    0],\n",
      "       [   0,    0,    0,    0,    0],\n",
      "       [   0,    0,   17,    0,    1],\n",
      "       [   5,    9,  244, 3882,  222],\n",
      "       [   0,    0,    2,    7,   16]], dtype=int64), '              precision    recall  f1-score   support\\n\\n           0       0.00      0.00      0.00         0\\n           1       0.00      0.00      0.00         0\\n           2       0.06      0.94      0.12        18\\n           3       1.00      0.89      0.94      4362\\n           4       0.07      0.64      0.12        25\\n\\n    accuracy                           0.89      4405\\n   macro avg       0.23      0.49      0.24      4405\\nweighted avg       0.99      0.89      0.93      4405\\n']\n",
      "Confusion Matrix: <function confusion_matrix at 0x000002C81835B550>\n",
      "Classification_Report: <function classification_report at 0x000002C81835BDC0>\n",
      "NB, N-Gram Vectors:  [0.8147559591373439, array([[   0,    0,    0,    0,    0],\n",
      "       [   0,    0,    0,    0,    0],\n",
      "       [   1,    0,   62,  134,    0],\n",
      "       [   4,    9,  198, 3490,  202],\n",
      "       [   0,    0,    3,  265,   37]], dtype=int64), '              precision    recall  f1-score   support\\n\\n           0       0.00      0.00      0.00         0\\n           1       0.00      0.00      0.00         0\\n           2       0.24      0.31      0.27       197\\n           3       0.90      0.89      0.90      3903\\n           4       0.15      0.12      0.14       305\\n\\n    accuracy                           0.81      4405\\n   macro avg       0.26      0.27      0.26      4405\\nweighted avg       0.82      0.81      0.82      4405\\n']\n",
      "Confusion Matrix: <function confusion_matrix at 0x000002C81835B550>\n",
      "Classification_Report: <function classification_report at 0x000002C81835BDC0>\n",
      "NB, CharLevel Vectors:  [0.8801362088535755, array([[   0,    0,    0,    0,    0],\n",
      "       [   0,    0,    2,    9,    1],\n",
      "       [   0,    0,    3,    0,    0],\n",
      "       [   5,    9,  258, 3872,  236],\n",
      "       [   0,    0,    0,    8,    2]], dtype=int64), '              precision    recall  f1-score   support\\n\\n           0       0.00      0.00      0.00         0\\n           1       0.00      0.00      0.00        12\\n           2       0.01      1.00      0.02         3\\n           3       1.00      0.88      0.94      4380\\n           4       0.01      0.20      0.02        10\\n\\n    accuracy                           0.88      4405\\n   macro avg       0.20      0.42      0.20      4405\\nweighted avg       0.99      0.88      0.93      4405\\n']\n",
      "Confusion Matrix: <function confusion_matrix at 0x000002C81835B550>\n",
      "Classification_Report: <function classification_report at 0x000002C81835BDC0>\n"
     ]
    }
   ],
   "source": [
    "# Naive Bayes on Count Vectors\n",
    "accuracy = model_training(naive_bayes.MultinomialNB(), xtrain_count, train_y, xvalid_count)\n",
    "print (\"NB, Count Vectors: \", accuracy)\n",
    "print(\"Confusion Matrix:\", confusion_matrix)\n",
    "print(\"Classification_Report:\", classification_report)\n",
    "\n",
    "# Naive Bayes on Word Level TF IDF Vectors\n",
    "accuracy = model_training(naive_bayes.MultinomialNB(), xtrain_tfidf, train_y, xvalid_tfidf)\n",
    "print (\"NB, WordLevel TF-IDF: \", accuracy)\n",
    "print(\"Confusion Matrix:\", confusion_matrix)\n",
    "print(\"Classification_Report:\", classification_report)\n",
    "\n",
    "# Naive Bayes on Ngram Level TF IDF Vectors\n",
    "accuracy = model_training(naive_bayes.MultinomialNB(), xtrain_tfidf_ngram, train_y, xvalid_tfidf_ngram)\n",
    "print (\"NB, N-Gram Vectors: \", accuracy)\n",
    "print(\"Confusion Matrix:\", confusion_matrix)\n",
    "print(\"Classification_Report:\", classification_report)\n",
    "\n",
    "# Naive Bayes on Character Level TF IDF Vectors\n",
    "accuracy = model_training(naive_bayes.MultinomialNB(), xtrain_tfidf_ngram_chars, train_y, xvalid_tfidf_ngram_chars)\n",
    "print (\"NB, CharLevel Vectors: \", accuracy)\n",
    "print(\"Confusion Matrix:\", confusion_matrix)\n",
    "print(\"Classification_Report:\", classification_report)"
   ]
  },
  {
   "cell_type": "markdown",
   "metadata": {},
   "source": [
    "### DecisionTreeClassifier"
   ]
  },
  {
   "cell_type": "code",
   "execution_count": 101,
   "metadata": {},
   "outputs": [
    {
     "name": "stdout",
     "output_type": "stream",
     "text": [
      "LR, Count Vectors:  [0.9232690124858116, array([[   2,    0,    0,    2,    0],\n",
      "       [   0,    9,    0,    0,    1],\n",
      "       [   1,    0,  140,   44,   14],\n",
      "       [   2,    0,  119, 3837,  145],\n",
      "       [   0,    0,    4,    6,   79]], dtype=int64), '              precision    recall  f1-score   support\\n\\n           0       0.40      0.50      0.44         4\\n           1       1.00      0.90      0.95        10\\n           2       0.53      0.70      0.61       199\\n           3       0.99      0.94      0.96      4103\\n           4       0.33      0.89      0.48        89\\n\\n    accuracy                           0.92      4405\\n   macro avg       0.65      0.79      0.69      4405\\nweighted avg       0.95      0.92      0.93      4405\\n']\n",
      "Confusion Matrix: <function confusion_matrix at 0x000002C81835B550>\n",
      "Classification_Report: <function classification_report at 0x000002C81835BDC0>\n",
      "LR, WordLevel TF-IDF:  [0.9244040862656072, array([[   2,    0,    0,    2,    0],\n",
      "       [   0,    9,    0,    0,    1],\n",
      "       [   1,    0,  140,   39,   14],\n",
      "       [   2,    0,  119, 3842,  145],\n",
      "       [   0,    0,    4,    6,   79]], dtype=int64), '              precision    recall  f1-score   support\\n\\n           0       0.40      0.50      0.44         4\\n           1       1.00      0.90      0.95        10\\n           2       0.53      0.72      0.61       194\\n           3       0.99      0.94      0.96      4108\\n           4       0.33      0.89      0.48        89\\n\\n    accuracy                           0.92      4405\\n   macro avg       0.65      0.79      0.69      4405\\nweighted avg       0.95      0.92      0.94      4405\\n']\n",
      "Confusion Matrix: <function confusion_matrix at 0x000002C81835B550>\n",
      "Classification_Report: <function classification_report at 0x000002C81835BDC0>\n",
      "LR, N-Gram Vectors:  [0.9148694665153235, array([[   2,    0,    0,    2,    0],\n",
      "       [   0,    8,    0,    4,    1],\n",
      "       [   1,    0,  116,   38,   15],\n",
      "       [   2,    1,  143, 3839,  158],\n",
      "       [   0,    0,    4,    6,   65]], dtype=int64), '              precision    recall  f1-score   support\\n\\n           0       0.40      0.50      0.44         4\\n           1       0.89      0.62      0.73        13\\n           2       0.44      0.68      0.54       170\\n           3       0.99      0.93      0.96      4143\\n           4       0.27      0.87      0.41        75\\n\\n    accuracy                           0.91      4405\\n   macro avg       0.60      0.72      0.62      4405\\nweighted avg       0.95      0.91      0.93      4405\\n']\n",
      "Confusion Matrix: <function confusion_matrix at 0x000002C81835B550>\n",
      "Classification_Report: <function classification_report at 0x000002C81835BDC0>\n",
      "LR, CharLevel Vectors:  [0.9244040862656072, array([[   2,    0,    0,    6,    0],\n",
      "       [   0,    9,    0,    0,    1],\n",
      "       [   1,    0,  140,   38,   14],\n",
      "       [   2,    0,  119, 3839,  142],\n",
      "       [   0,    0,    4,    6,   82]], dtype=int64), '              precision    recall  f1-score   support\\n\\n           0       0.40      0.25      0.31         8\\n           1       1.00      0.90      0.95        10\\n           2       0.53      0.73      0.61       193\\n           3       0.99      0.94      0.96      4102\\n           4       0.34      0.89      0.50        92\\n\\n    accuracy                           0.92      4405\\n   macro avg       0.65      0.74      0.67      4405\\nweighted avg       0.95      0.92      0.93      4405\\n']\n",
      "Confusion Matrix: <function confusion_matrix at 0x000002C81835B550>\n",
      "Classification_Report: <function classification_report at 0x000002C81835BDC0>\n"
     ]
    }
   ],
   "source": [
    "# Classifier on Count Vectors\n",
    "accuracy = model_training(DecisionTreeClassifier(), xtrain_count, train_y, xvalid_count)\n",
    "print (\"LR, Count Vectors: \", accuracy)\n",
    "print(\"Confusion Matrix:\", confusion_matrix)\n",
    "print(\"Classification_Report:\", classification_report)\n",
    "\n",
    "# Classifier on Word Level TF IDF Vectors\n",
    "accuracy = model_training(DecisionTreeClassifier(), xtrain_tfidf, train_y, xvalid_tfidf)\n",
    "print (\"LR, WordLevel TF-IDF: \", accuracy)\n",
    "print(\"Confusion Matrix:\", confusion_matrix)\n",
    "print(\"Classification_Report:\", classification_report)\n",
    "\n",
    "# Classifier on Ngram Level TF IDF Vectors\n",
    "accuracy = model_training(DecisionTreeClassifier(), xtrain_tfidf_ngram, train_y, xvalid_tfidf_ngram)\n",
    "print (\"LR, N-Gram Vectors: \", accuracy)\n",
    "print(\"Confusion Matrix:\", confusion_matrix)\n",
    "print(\"Classification_Report:\", classification_report)\n",
    "\n",
    "# Classifier on Character Level TF IDF Vectors\n",
    "accuracy = model_training(DecisionTreeClassifier(), xtrain_tfidf_ngram_chars, train_y, xvalid_tfidf_ngram_chars)\n",
    "print (\"LR, CharLevel Vectors: \", accuracy)\n",
    "print(\"Confusion Matrix:\", confusion_matrix)\n",
    "print(\"Classification_Report:\", classification_report)"
   ]
  },
  {
   "cell_type": "markdown",
   "metadata": {},
   "source": [
    "### KNeighborsClassifier"
   ]
  },
  {
   "cell_type": "code",
   "execution_count": 102,
   "metadata": {},
   "outputs": [
    {
     "name": "stdout",
     "output_type": "stream",
     "text": [
      "LR, Count Vectors:  [0.9064699205448354, array([[   2,    0,    0,    3,    0],\n",
      "       [   0,    7,    2,    4,    1],\n",
      "       [   1,    0,  112,   44,    9],\n",
      "       [   2,    2,  144, 3826,  183],\n",
      "       [   0,    0,    5,   12,   46]], dtype=int64), '              precision    recall  f1-score   support\\n\\n           0       0.40      0.40      0.40         5\\n           1       0.78      0.50      0.61        14\\n           2       0.43      0.67      0.52       166\\n           3       0.98      0.92      0.95      4157\\n           4       0.19      0.73      0.30        63\\n\\n    accuracy                           0.91      4405\\n   macro avg       0.56      0.65      0.56      4405\\nweighted avg       0.95      0.91      0.92      4405\\n']\n",
      "Confusion Matrix: <function confusion_matrix at 0x000002C81835B550>\n",
      "Classification_Report: <function classification_report at 0x000002C81835BDC0>\n",
      "LR, WordLevel TF-IDF:  [0.9101021566401816, array([[   2,    0,    0,    1,    0],\n",
      "       [   0,    6,    0,    0,    1],\n",
      "       [   1,    0,  121,   53,    5],\n",
      "       [   2,    3,  136, 3834,  187],\n",
      "       [   0,    0,    6,    1,   46]], dtype=int64), '              precision    recall  f1-score   support\\n\\n           0       0.40      0.67      0.50         3\\n           1       0.67      0.86      0.75         7\\n           2       0.46      0.67      0.55       180\\n           3       0.99      0.92      0.95      4162\\n           4       0.19      0.87      0.32        53\\n\\n    accuracy                           0.91      4405\\n   macro avg       0.54      0.80      0.61      4405\\nweighted avg       0.95      0.91      0.93      4405\\n']\n",
      "Confusion Matrix: <function confusion_matrix at 0x000002C81835B550>\n",
      "Classification_Report: <function classification_report at 0x000002C81835BDC0>\n",
      "LR, N-Gram Vectors:  [0.9060158910329171, array([[   2,    0,    0,    1,    0],\n",
      "       [   0,    6,    0,    0,    1],\n",
      "       [   1,    0,   90,   25,    5],\n",
      "       [   2,    3,  168, 3848,  188],\n",
      "       [   0,    0,    5,   15,   45]], dtype=int64), '              precision    recall  f1-score   support\\n\\n           0       0.40      0.67      0.50         3\\n           1       0.67      0.86      0.75         7\\n           2       0.34      0.74      0.47       121\\n           3       0.99      0.91      0.95      4209\\n           4       0.19      0.69      0.30        65\\n\\n    accuracy                           0.91      4405\\n   macro avg       0.52      0.77      0.59      4405\\nweighted avg       0.96      0.91      0.93      4405\\n']\n",
      "Confusion Matrix: <function confusion_matrix at 0x000002C81835B550>\n",
      "Classification_Report: <function classification_report at 0x000002C81835BDC0>\n",
      "LR, CharLevel Vectors:  [0.9130533484676504, array([[   2,    0,    0,    1,    0],\n",
      "       [   0,    7,    0,    2,    1],\n",
      "       [   0,    0,  100,   19,    7],\n",
      "       [   3,    2,  159, 3859,  177],\n",
      "       [   0,    0,    4,    8,   54]], dtype=int64), '              precision    recall  f1-score   support\\n\\n           0       0.40      0.67      0.50         3\\n           1       0.78      0.70      0.74        10\\n           2       0.38      0.79      0.51       126\\n           3       0.99      0.92      0.95      4200\\n           4       0.23      0.82      0.35        66\\n\\n    accuracy                           0.91      4405\\n   macro avg       0.56      0.78      0.61      4405\\nweighted avg       0.96      0.91      0.93      4405\\n']\n",
      "Confusion Matrix: <function confusion_matrix at 0x000002C81835B550>\n",
      "Classification_Report: <function classification_report at 0x000002C81835BDC0>\n"
     ]
    }
   ],
   "source": [
    "# Classifier on Count Vectors\n",
    "accuracy = model_training(KNeighborsClassifier(), xtrain_count, train_y, xvalid_count)\n",
    "print (\"LR, Count Vectors: \", accuracy)\n",
    "print(\"Confusion Matrix:\", confusion_matrix)\n",
    "print(\"Classification_Report:\", classification_report)\n",
    "\n",
    "# Classifier on Word Level TF IDF Vectors\n",
    "accuracy = model_training(KNeighborsClassifier(), xtrain_tfidf, train_y, xvalid_tfidf)\n",
    "print (\"LR, WordLevel TF-IDF: \", accuracy)\n",
    "print(\"Confusion Matrix:\", confusion_matrix)\n",
    "print(\"Classification_Report:\", classification_report)\n",
    "\n",
    "# Classifier on Ngram Level TF IDF Vectors\n",
    "accuracy = model_training(KNeighborsClassifier(), xtrain_tfidf_ngram, train_y, xvalid_tfidf_ngram)\n",
    "print (\"LR, N-Gram Vectors: \", accuracy)\n",
    "print(\"Confusion Matrix:\", confusion_matrix)\n",
    "print(\"Classification_Report:\", classification_report)\n",
    "\n",
    "# Classifier on Character Level TF IDF Vectors\n",
    "accuracy = model_training(KNeighborsClassifier(), xtrain_tfidf_ngram_chars, train_y, xvalid_tfidf_ngram_chars)\n",
    "print (\"LR, CharLevel Vectors: \", accuracy)\n",
    "print(\"Confusion Matrix:\", confusion_matrix)\n",
    "print(\"Classification_Report:\", classification_report)"
   ]
  },
  {
   "cell_type": "markdown",
   "metadata": {},
   "source": [
    "### Support Vector Machine"
   ]
  },
  {
   "cell_type": "code",
   "execution_count": 103,
   "metadata": {},
   "outputs": [
    {
     "name": "stdout",
     "output_type": "stream",
     "text": [
      "SVM, N-Gram Vectors:  [0.9166855845629966, array([[   2,    0,    0,    1,    0],\n",
      "       [   0,    7,    0,    0,    1],\n",
      "       [   1,    1,  101,   14,    6],\n",
      "       [   2,    1,  160, 3871,  175],\n",
      "       [   0,    0,    2,    3,   57]], dtype=int64), '              precision    recall  f1-score   support\\n\\n           0       0.40      0.67      0.50         3\\n           1       0.78      0.88      0.82         8\\n           2       0.38      0.82      0.52       123\\n           3       1.00      0.92      0.96      4209\\n           4       0.24      0.92      0.38        62\\n\\n    accuracy                           0.92      4405\\n   macro avg       0.56      0.84      0.64      4405\\nweighted avg       0.97      0.92      0.94      4405\\n']\n",
      "Confusion Matrix: <function confusion_matrix at 0x000002C81835B550>\n",
      "Classification_Report: <function classification_report at 0x000002C81835BDC0>\n"
     ]
    }
   ],
   "source": [
    "# SVM on Ngram Level TF IDF Vectors\n",
    "accuracy = model_training(svm.SVC(), xtrain_tfidf_ngram, train_y, xvalid_tfidf_ngram)\n",
    "print (\"SVM, N-Gram Vectors: \", accuracy)\n",
    "print(\"Confusion Matrix:\", confusion_matrix)\n",
    "print(\"Classification_Report:\", classification_report)"
   ]
  },
  {
   "cell_type": "markdown",
   "metadata": {},
   "source": [
    "## Bagging Model"
   ]
  },
  {
   "cell_type": "markdown",
   "metadata": {},
   "source": [
    "### Random Forest Model"
   ]
  },
  {
   "cell_type": "code",
   "execution_count": 104,
   "metadata": {},
   "outputs": [
    {
     "name": "stdout",
     "output_type": "stream",
     "text": [
      "RF, Count Vectors:  [0.9257661748013621, array([[   2,    0,    0,    1,    0],\n",
      "       [   0,    9,    0,    0,    1],\n",
      "       [   1,    0,  131,   29,   10],\n",
      "       [   2,    0,  128, 3853,  145],\n",
      "       [   0,    0,    4,    6,   83]], dtype=int64), '              precision    recall  f1-score   support\\n\\n           0       0.40      0.67      0.50         3\\n           1       1.00      0.90      0.95        10\\n           2       0.50      0.77      0.60       171\\n           3       0.99      0.93      0.96      4128\\n           4       0.35      0.89      0.50        93\\n\\n    accuracy                           0.93      4405\\n   macro avg       0.65      0.83      0.70      4405\\nweighted avg       0.96      0.93      0.94      4405\\n']\n",
      "Confusion Matrix: <function confusion_matrix at 0x000002C81835B550>\n",
      "Classification_Report: <function classification_report at 0x000002C81835BDC0>\n",
      "RF, WordLevel TF-IDF:  [0.9257661748013621, array([[   2,    0,    0,    1,    0],\n",
      "       [   0,    9,    0,    0,    1],\n",
      "       [   1,    0,  134,   32,   11],\n",
      "       [   2,    0,  125, 3850,  144],\n",
      "       [   0,    0,    4,    6,   83]], dtype=int64), '              precision    recall  f1-score   support\\n\\n           0       0.40      0.67      0.50         3\\n           1       1.00      0.90      0.95        10\\n           2       0.51      0.75      0.61       178\\n           3       0.99      0.93      0.96      4121\\n           4       0.35      0.89      0.50        93\\n\\n    accuracy                           0.93      4405\\n   macro avg       0.65      0.83      0.70      4405\\nweighted avg       0.96      0.93      0.94      4405\\n']\n",
      "Confusion Matrix: <function confusion_matrix at 0x000002C81835B550>\n",
      "Classification_Report: <function classification_report at 0x000002C81835BDC0>\n"
     ]
    }
   ],
   "source": [
    "# RF on Count Vectors\n",
    "accuracy = model_training(ensemble.RandomForestClassifier(), xtrain_count, train_y, xvalid_count)\n",
    "print (\"RF, Count Vectors: \", accuracy)\n",
    "print(\"Confusion Matrix:\", confusion_matrix)\n",
    "print(\"Classification_Report:\", classification_report)\n",
    "\n",
    "# RF on Word Level TF IDF Vectors\n",
    "accuracy = model_training(ensemble.RandomForestClassifier(), xtrain_tfidf, train_y, xvalid_tfidf)\n",
    "print (\"RF, WordLevel TF-IDF: \", accuracy)\n",
    "print(\"Confusion Matrix:\", confusion_matrix)\n",
    "print(\"Classification_Report:\", classification_report)"
   ]
  },
  {
   "cell_type": "markdown",
   "metadata": {},
   "source": [
    "## Boosting Algorithms"
   ]
  },
  {
   "cell_type": "markdown",
   "metadata": {},
   "source": [
    "### Gradient Boosting Classifier"
   ]
  },
  {
   "cell_type": "code",
   "execution_count": 105,
   "metadata": {},
   "outputs": [
    {
     "name": "stdout",
     "output_type": "stream",
     "text": [
      "LR, Count Vectors:  [0.8982973893303065, array([[   2,    0,    0,    4,    0],\n",
      "       [   0,    5,    0,    0,    1],\n",
      "       [   0,    0,   41,    0,    0],\n",
      "       [   3,    4,  221, 3884,  213],\n",
      "       [   0,    0,    1,    1,   25]], dtype=int64), '              precision    recall  f1-score   support\\n\\n           0       0.40      0.33      0.36         6\\n           1       0.56      0.83      0.67         6\\n           2       0.16      1.00      0.27        41\\n           3       1.00      0.90      0.95      4325\\n           4       0.10      0.93      0.19        27\\n\\n    accuracy                           0.90      4405\\n   macro avg       0.44      0.80      0.49      4405\\nweighted avg       0.98      0.90      0.93      4405\\n']\n",
      "Confusion Matrix: <function confusion_matrix at 0x000002C81835B550>\n",
      "Classification_Report: <function classification_report at 0x000002C81835BDC0>\n",
      "LR, WordLevel TF-IDF:  [0.9078320090805903, array([[   3,    0,    0,    3,    0],\n",
      "       [   0,    6,    0,    0,    1],\n",
      "       [   0,    0,   59,    1,    1],\n",
      "       [   2,    2,  203, 3884,  190],\n",
      "       [   0,    1,    1,    1,   47]], dtype=int64), '              precision    recall  f1-score   support\\n\\n           0       0.60      0.50      0.55         6\\n           1       0.67      0.86      0.75         7\\n           2       0.22      0.97      0.36        61\\n           3       1.00      0.91      0.95      4281\\n           4       0.20      0.94      0.33        50\\n\\n    accuracy                           0.91      4405\\n   macro avg       0.54      0.83      0.59      4405\\nweighted avg       0.98      0.91      0.93      4405\\n']\n",
      "Confusion Matrix: <function confusion_matrix at 0x000002C81835B550>\n",
      "Classification_Report: <function classification_report at 0x000002C81835BDC0>\n",
      "LR, N-Gram Vectors:  [0.9053348467650397, array([[   3,    0,    0,    3,    0],\n",
      "       [   0,    7,    0,    0,    1],\n",
      "       [   0,    0,   64,    2,    0],\n",
      "       [   2,    2,  198, 3883,  207],\n",
      "       [   0,    0,    1,    1,   31]], dtype=int64), '              precision    recall  f1-score   support\\n\\n           0       0.60      0.50      0.55         6\\n           1       0.78      0.88      0.82         8\\n           2       0.24      0.97      0.39        66\\n           3       1.00      0.90      0.95      4292\\n           4       0.13      0.94      0.23        33\\n\\n    accuracy                           0.91      4405\\n   macro avg       0.55      0.84      0.59      4405\\nweighted avg       0.98      0.91      0.93      4405\\n']\n",
      "Confusion Matrix: <function confusion_matrix at 0x000002C81835B550>\n",
      "Classification_Report: <function classification_report at 0x000002C81835BDC0>\n",
      "LR, CharLevel Vectors:  [0.9153234960272417, array([[   2,    0,    0,    1,    0],\n",
      "       [   0,    7,    0,    0,    1],\n",
      "       [   0,    0,   92,    7,    4],\n",
      "       [   3,    1,  169, 3878,  181],\n",
      "       [   0,    1,    2,    3,   53]], dtype=int64), '              precision    recall  f1-score   support\\n\\n           0       0.40      0.67      0.50         3\\n           1       0.78      0.88      0.82         8\\n           2       0.35      0.89      0.50       103\\n           3       1.00      0.92      0.96      4232\\n           4       0.22      0.90      0.36        59\\n\\n    accuracy                           0.92      4405\\n   macro avg       0.55      0.85      0.63      4405\\nweighted avg       0.97      0.92      0.94      4405\\n']\n",
      "Confusion Matrix: <function confusion_matrix at 0x000002C81835B550>\n",
      "Classification_Report: <function classification_report at 0x000002C81835BDC0>\n"
     ]
    }
   ],
   "source": [
    "# Classifier on Count Vectors\n",
    "accuracy = model_training(GradientBoostingClassifier(), xtrain_count, train_y, xvalid_count)\n",
    "print (\"LR, Count Vectors: \", accuracy)\n",
    "print(\"Confusion Matrix:\", confusion_matrix)\n",
    "print(\"Classification_Report:\", classification_report)\n",
    "\n",
    "# Classifier on Word Level TF IDF Vectors\n",
    "accuracy = model_training(GradientBoostingClassifier(), xtrain_tfidf, train_y, xvalid_tfidf)\n",
    "print (\"LR, WordLevel TF-IDF: \", accuracy)\n",
    "print(\"Confusion Matrix:\", confusion_matrix)\n",
    "print(\"Classification_Report:\", classification_report)\n",
    "\n",
    "# Classifier on Ngram Level TF IDF Vectors\n",
    "accuracy = model_training(GradientBoostingClassifier(), xtrain_tfidf_ngram, train_y, xvalid_tfidf_ngram)\n",
    "print (\"LR, N-Gram Vectors: \", accuracy)\n",
    "print(\"Confusion Matrix:\", confusion_matrix)\n",
    "print(\"Classification_Report:\", classification_report)\n",
    "\n",
    "# Classifier on Character Level TF IDF Vectors\n",
    "accuracy = model_training(GradientBoostingClassifier(), xtrain_tfidf_ngram_chars, train_y, xvalid_tfidf_ngram_chars)\n",
    "print (\"LR, CharLevel Vectors: \", accuracy)\n",
    "print(\"Confusion Matrix:\", confusion_matrix)\n",
    "print(\"Classification_Report:\", classification_report)"
   ]
  },
  {
   "cell_type": "markdown",
   "metadata": {},
   "source": [
    "### XGBoost Implementation"
   ]
  },
  {
   "cell_type": "code",
   "execution_count": 106,
   "metadata": {},
   "outputs": [
    {
     "name": "stdout",
     "output_type": "stream",
     "text": [
      "[10:37:56] WARNING: C:/Users/Administrator/workspace/xgboost-win64_release_1.5.1/src/learner.cc:1115: Starting in XGBoost 1.3.0, the default evaluation metric used with the objective 'multi:softprob' was changed from 'merror' to 'mlogloss'. Explicitly set eval_metric if you'd like to restore the old behavior.\n",
      "Xgb, Count Vectors:  [0.9205448354143019, array([[   2,    0,    0,    1,    0],\n",
      "       [   0,    9,    0,    0,    1],\n",
      "       [   1,    0,  107,   11,    6],\n",
      "       [   2,    0,  152, 3873,  168],\n",
      "       [   0,    0,    4,    4,   64]], dtype=int64), '              precision    recall  f1-score   support\\n\\n           0       0.40      0.67      0.50         3\\n           1       1.00      0.90      0.95        10\\n           2       0.41      0.86      0.55       125\\n           3       1.00      0.92      0.96      4195\\n           4       0.27      0.89      0.41        72\\n\\n    accuracy                           0.92      4405\\n   macro avg       0.61      0.85      0.67      4405\\nweighted avg       0.97      0.92      0.94      4405\\n']\n",
      "Confusion Matrix: <function confusion_matrix at 0x000002C81835B550>\n",
      "Classification_Report: <function classification_report at 0x000002C81835BDC0>\n",
      "[10:38:05] WARNING: C:/Users/Administrator/workspace/xgboost-win64_release_1.5.1/src/learner.cc:1115: Starting in XGBoost 1.3.0, the default evaluation metric used with the objective 'multi:softprob' was changed from 'merror' to 'mlogloss'. Explicitly set eval_metric if you'd like to restore the old behavior.\n",
      "Xgb, WordLevel TF-IDF:  [0.9198637911464245, array([[   2,    0,    0,    2,    0],\n",
      "       [   0,    9,    0,    0,    1],\n",
      "       [   1,    0,  107,   17,    8],\n",
      "       [   2,    0,  152, 3867,  163],\n",
      "       [   0,    0,    4,    3,   67]], dtype=int64), '              precision    recall  f1-score   support\\n\\n           0       0.40      0.50      0.44         4\\n           1       1.00      0.90      0.95        10\\n           2       0.41      0.80      0.54       133\\n           3       0.99      0.92      0.96      4184\\n           4       0.28      0.91      0.43        74\\n\\n    accuracy                           0.92      4405\\n   macro avg       0.62      0.81      0.66      4405\\nweighted avg       0.96      0.92      0.94      4405\\n']\n",
      "Confusion Matrix: <function confusion_matrix at 0x000002C81835B550>\n",
      "Classification_Report: <function classification_report at 0x000002C81835BDC0>\n",
      "[10:38:20] WARNING: C:/Users/Administrator/workspace/xgboost-win64_release_1.5.1/src/learner.cc:1115: Starting in XGBoost 1.3.0, the default evaluation metric used with the objective 'multi:softprob' was changed from 'merror' to 'mlogloss'. Explicitly set eval_metric if you'd like to restore the old behavior.\n",
      "Xgb, CharLevel Vectors:  [0.9262202043132803, array([[   2,    0,    0,    1,    0],\n",
      "       [   0,    9,    0,    0,    1],\n",
      "       [   1,    0,  128,   26,   10],\n",
      "       [   2,    0,  131, 3857,  144],\n",
      "       [   0,    0,    4,    5,   84]], dtype=int64), '              precision    recall  f1-score   support\\n\\n           0       0.40      0.67      0.50         3\\n           1       1.00      0.90      0.95        10\\n           2       0.49      0.78      0.60       165\\n           3       0.99      0.93      0.96      4134\\n           4       0.35      0.90      0.51        93\\n\\n    accuracy                           0.93      4405\\n   macro avg       0.65      0.84      0.70      4405\\nweighted avg       0.96      0.93      0.94      4405\\n']\n",
      "Confusion Matrix: <function confusion_matrix at 0x000002C81835B550>\n",
      "Classification_Report: <function classification_report at 0x000002C81835BDC0>\n"
     ]
    }
   ],
   "source": [
    "# Extereme Gradient Boosting on Count Vectors\n",
    "accuracy = model_training(xgboost.XGBClassifier(), xtrain_count.tocsc(), train_y, xvalid_count.tocsc())\n",
    "print (\"Xgb, Count Vectors: \", accuracy)\n",
    "print(\"Confusion Matrix:\", confusion_matrix)\n",
    "print(\"Classification_Report:\", classification_report)\n",
    "\n",
    "# Extereme Gradient Boosting on Word Level TF IDF Vectors\n",
    "accuracy = model_training(xgboost.XGBClassifier(), xtrain_tfidf.tocsc(), train_y, xvalid_tfidf.tocsc())\n",
    "print (\"Xgb, WordLevel TF-IDF: \", accuracy)\n",
    "print(\"Confusion Matrix:\", confusion_matrix)\n",
    "print(\"Classification_Report:\", classification_report)\n",
    "\n",
    "# Extereme Gradient Boosting on Character Level TF IDF Vectors\n",
    "accuracy = model_training(xgboost.XGBClassifier(), xtrain_tfidf_ngram_chars.tocsc(), train_y, xvalid_tfidf_ngram_chars.tocsc())\n",
    "print (\"Xgb, CharLevel Vectors: \", accuracy)\n",
    "print(\"Confusion Matrix:\", confusion_matrix)\n",
    "print(\"Classification_Report:\", classification_report)"
   ]
  },
  {
   "cell_type": "markdown",
   "metadata": {},
   "source": [
    "## Shallow Neural Network"
   ]
  },
  {
   "cell_type": "code",
   "execution_count": 65,
   "metadata": {},
   "outputs": [
    {
     "name": "stdout",
     "output_type": "stream",
     "text": [
      "413/413 [==============================] - 16s 36ms/step - loss: nan\n",
      "NN, Ngram Level TF IDF Vectors 0.002497162315550511\n"
     ]
    }
   ],
   "source": [
    "def create_model_architecture(input_size):\n",
    "    # create input layer \n",
    "    input_layer = layers.Input((input_size, ), sparse=True)\n",
    "    \n",
    "    # create hidden layer\n",
    "    hidden_layer = layers.Dense(100, activation=\"relu\")(input_layer)\n",
    "    \n",
    "    # create output layer\n",
    "    output_layer = layers.Dense(1, activation=\"relu\")(hidden_layer)\n",
    "\n",
    "    classifier = models.Model(inputs = input_layer, outputs = output_layer)\n",
    "    classifier.compile(optimizer=tf.optimizers.Adam(), loss='categorical_crossentropy')\n",
    "    return classifier \n",
    "\n",
    "classifier = create_model_architecture(xtrain_tfidf_ngram.shape[1])\n",
    "accuracy = model_training(classifier, xtrain_tfidf_ngram, train_y, xvalid_tfidf_ngram, is_neural_net=True)\n",
    "print (\"NN, Ngram Level TF IDF Vectors\",  accuracy)"
   ]
  },
  {
   "cell_type": "markdown",
   "metadata": {},
   "source": [
    "### Final Model can be selected as XGBoost as it is having highest accuracy."
   ]
  },
  {
   "cell_type": "code",
   "execution_count": null,
   "metadata": {},
   "outputs": [],
   "source": []
  },
  {
   "cell_type": "code",
   "execution_count": null,
   "metadata": {},
   "outputs": [],
   "source": []
  },
  {
   "cell_type": "code",
   "execution_count": null,
   "metadata": {},
   "outputs": [],
   "source": []
  }
 ],
 "metadata": {
  "kernelspec": {
   "display_name": "Python 3",
   "language": "python",
   "name": "python3"
  },
  "language_info": {
   "codemirror_mode": {
    "name": "ipython",
    "version": 3
   },
   "file_extension": ".py",
   "mimetype": "text/x-python",
   "name": "python",
   "nbconvert_exporter": "python",
   "pygments_lexer": "ipython3",
   "version": "3.8.5"
  }
 },
 "nbformat": 4,
 "nbformat_minor": 4
}
