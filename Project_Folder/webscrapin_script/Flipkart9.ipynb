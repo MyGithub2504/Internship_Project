{
 "cells": [
  {
   "cell_type": "code",
   "execution_count": 1,
   "metadata": {},
   "outputs": [],
   "source": [
    "# importing necessary packages\n",
    "from selenium import webdriver\n",
    "from selenium.common.exceptions import TimeoutException\n",
    "from selenium.common.exceptions import NoSuchElementException\n",
    "from selenium.common.exceptions import WebDriverException\n",
    "import selenium\n",
    "import pandas as pd\n",
    "import time\n",
    "import warnings\n",
    "import os\n",
    "from time import sleep\n",
    "warnings.filterwarnings(\"ignore\")"
   ]
  },
  {
   "cell_type": "code",
   "execution_count": 2,
   "metadata": {},
   "outputs": [],
   "source": [
    "# for holding the resultant list\n",
    "Ratings9=[]\n",
    "Review9=[]\n",
    "url9=[]"
   ]
  },
  {
   "cell_type": "code",
   "execution_count": 3,
   "metadata": {},
   "outputs": [],
   "source": [
    "#Lets first connect to the web driver\n",
    "driver = webdriver.Chrome(r\"C:\\Users\\user\\Downloads\\chromedriver_win32 (1)\\chromedriver.exe\")"
   ]
  },
  {
   "cell_type": "code",
   "execution_count": 4,
   "metadata": {},
   "outputs": [],
   "source": [
    "driver.get(\"https://www.flipkart.com/\")"
   ]
  },
  {
   "cell_type": "code",
   "execution_count": 5,
   "metadata": {},
   "outputs": [],
   "source": [
    "btn1=driver.find_element_by_xpath(\"//button[@class='_2KpZ6l _2doB4z']\")\n",
    "btn1.click()"
   ]
  },
  {
   "cell_type": "code",
   "execution_count": 6,
   "metadata": {},
   "outputs": [],
   "source": [
    "search_field9=driver.find_element_by_xpath(\"/html[1]/body[1]/div[1]/div[1]/div[1]/div[1]/div[2]/div[2]/form[1]/div[1]/div[1]/input[1]\")\n",
    "search_field9.send_keys(\"Professional Cameras\")"
   ]
  },
  {
   "cell_type": "code",
   "execution_count": 7,
   "metadata": {},
   "outputs": [],
   "source": [
    "search_btn9=driver.find_element_by_xpath(\"/html[1]/body[1]/div[1]/div[1]/div[1]/div[1]/div[2]/div[2]/form[1]/div[1]/button[1]\")\n",
    "search_btn9.click()"
   ]
  },
  {
   "cell_type": "code",
   "execution_count": 9,
   "metadata": {},
   "outputs": [],
   "source": [
    "products=[]\n",
    "try:\n",
    "    for i in range(1):\n",
    "        for j in driver.find_elements_by_xpath(\"//a[@class='_1fQZEK']\"):\n",
    "            url9.append(j.get_attribute(\"href\"))\n",
    "        next_button=driver.find_element_by_xpath(\"//a[@class='_1LKTO3']\").click()\n",
    "        sleep(6)\n",
    "except(NoSuchElementException, WebDriverException, TimeoutException):\n",
    "    pass"
   ]
  },
  {
   "cell_type": "code",
   "execution_count": null,
   "metadata": {},
   "outputs": [],
   "source": [
    "for i in url9:\n",
    "    driver.get(i)\n",
    "    time.sleep(3)\n",
    "     #Fetching brand\n",
    "    try:\n",
    "        rating9=driver.find_element_by_xpath(\"//div[@class='_2d4LTz']\")\n",
    "        Ratings9.append(rating2.text.replace(\"/n\",\"new line\"))\n",
    "    except (NoSuchElementException, WebDriverException, TimeoutException):\n",
    "        pass\n",
    "     #Fetching variant\n",
    "    try:\n",
    "        review2=driver.find_element_by_xpath(\"//div[@class='t-ZTKy']/div/div\")\n",
    "        Review2.append(review2.text.replace(\"/n\",\"new line\"))\n",
    "    except (NoSuchElementException, WebDriverException, TimeoutException):\n",
    "        pass"
   ]
  }
 ],
 "metadata": {
  "kernelspec": {
   "display_name": "Python 3",
   "language": "python",
   "name": "python3"
  },
  "language_info": {
   "codemirror_mode": {
    "name": "ipython",
    "version": 3
   },
   "file_extension": ".py",
   "mimetype": "text/x-python",
   "name": "python",
   "nbconvert_exporter": "python",
   "pygments_lexer": "ipython3",
   "version": "3.8.5"
  }
 },
 "nbformat": 4,
 "nbformat_minor": 4
}
