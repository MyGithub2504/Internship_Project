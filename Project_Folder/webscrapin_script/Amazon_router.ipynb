{
 "cells": [
  {
   "cell_type": "code",
   "execution_count": 35,
   "metadata": {},
   "outputs": [],
   "source": [
    "# importing necessary packages\n",
    "from selenium import webdriver\n",
    "from selenium.common.exceptions import TimeoutException\n",
    "from selenium.common.exceptions import NoSuchElementException\n",
    "from selenium.common.exceptions import WebDriverException\n",
    "import selenium\n",
    "import pandas as pd\n",
    "import time\n",
    "import warnings\n",
    "import os\n",
    "from time import sleep\n",
    "warnings.filterwarnings(\"ignore\")"
   ]
  },
  {
   "cell_type": "code",
   "execution_count": 36,
   "metadata": {},
   "outputs": [],
   "source": [
    "# for holding the resultant list\n",
    "Ratings9=[]\n",
    "Review9=[]\n",
    "url9=[]"
   ]
  },
  {
   "cell_type": "code",
   "execution_count": 37,
   "metadata": {},
   "outputs": [],
   "source": [
    "#Lets first connect to the web driver\n",
    "driver = webdriver.Chrome(r\"C:\\Users\\user\\Downloads\\chromedriver_win32 (1)\\chromedriver.exe\")"
   ]
  },
  {
   "cell_type": "code",
   "execution_count": 38,
   "metadata": {},
   "outputs": [],
   "source": [
    "driver.get(\"https://www.amazon.in/\")"
   ]
  },
  {
   "cell_type": "code",
   "execution_count": 39,
   "metadata": {},
   "outputs": [],
   "source": [
    "search_field=driver.find_element_by_xpath(\"//input[@id='twotabsearchtextbox']\")\n",
    "search_field.send_keys(\"router\")"
   ]
  },
  {
   "cell_type": "code",
   "execution_count": 40,
   "metadata": {},
   "outputs": [],
   "source": [
    "search_btn=driver.find_element_by_xpath(\"//input[@id='nav-search-submit-button']\")\n",
    "search_btn.click()"
   ]
  },
  {
   "cell_type": "markdown",
   "metadata": {},
   "source": [
    "### Scrape url from Amazon"
   ]
  },
  {
   "cell_type": "code",
   "execution_count": 41,
   "metadata": {},
   "outputs": [],
   "source": [
    "try:\n",
    "    for i in range(50):\n",
    "        for j in driver.find_elements_by_xpath(\"//a[@target='_blank']\"):\n",
    "            url9.append(j.get_attribute(\"href\"))\n",
    "        next_button=driver.find_element_by_xpath(\"//a[@class='s-pagination-item s-pagination-next s-pagination-button s-pagination-separator']\")\n",
    "        next_button.click()\n",
    "        sleep(6)\n",
    "except(NoSuchElementException, WebDriverException, TimeoutException):\n",
    "    pass"
   ]
  },
  {
   "cell_type": "code",
   "execution_count": 42,
   "metadata": {},
   "outputs": [
    {
     "name": "stdout",
     "output_type": "stream",
     "text": [
      "1356\n"
     ]
    }
   ],
   "source": [
    "print(len(url9))"
   ]
  },
  {
   "cell_type": "code",
   "execution_count": null,
   "metadata": {},
   "outputs": [],
   "source": [
    "for i in url9:\n",
    "    driver.get(i)\n",
    "    time.sleep(3)\n",
    "     #Fetching brand\n",
    "    try:\n",
    "        rating9=driver.find_element_by_xpath(\"//span[@class='a-size-medium a-color-base']\")\n",
    "        Ratings9.append(rating9.text.replace(\"/n\",\"new line\"))\n",
    "    except (NoSuchElementException, WebDriverException, TimeoutException):\n",
    "        pass\n",
    "     #Fetching variant\n",
    "    try:\n",
    "        review9=driver.find_element_by_xpath(\"//div[@class='a-expander-content reviewText review-text-content a-expander-partial-collapse-content']\")\n",
    "        Review9.append(review9.text.replace(\"/n\",\"new line\"))\n",
    "    except (NoSuchElementException, WebDriverException, TimeoutException):\n",
    "        pass"
   ]
  },
  {
   "cell_type": "code",
   "execution_count": null,
   "metadata": {},
   "outputs": [],
   "source": []
  }
 ],
 "metadata": {
  "kernelspec": {
   "display_name": "Python 3",
   "language": "python",
   "name": "python3"
  },
  "language_info": {
   "codemirror_mode": {
    "name": "ipython",
    "version": 3
   },
   "file_extension": ".py",
   "mimetype": "text/x-python",
   "name": "python",
   "nbconvert_exporter": "python",
   "pygments_lexer": "ipython3",
   "version": "3.8.5"
  }
 },
 "nbformat": 4,
 "nbformat_minor": 4
}
