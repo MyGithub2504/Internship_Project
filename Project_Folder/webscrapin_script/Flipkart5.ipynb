{
 "cells": [
  {
   "cell_type": "code",
   "execution_count": 12,
   "metadata": {},
   "outputs": [],
   "source": [
    "# importing necessary packages\n",
    "from selenium import webdriver\n",
    "from selenium.common.exceptions import TimeoutException\n",
    "from selenium.common.exceptions import NoSuchElementException\n",
    "from selenium.common.exceptions import WebDriverException\n",
    "import selenium\n",
    "import pandas as pd\n",
    "import time\n",
    "import warnings\n",
    "import os\n",
    "from time import sleep\n",
    "warnings.filterwarnings(\"ignore\")"
   ]
  },
  {
   "cell_type": "code",
   "execution_count": 13,
   "metadata": {},
   "outputs": [],
   "source": [
    "# for holding the resultant list\n",
    "Ratings5=[]\n",
    "Review5=[]\n",
    "url5=[]"
   ]
  },
  {
   "cell_type": "code",
   "execution_count": 14,
   "metadata": {},
   "outputs": [],
   "source": [
    "#Lets first connect to the web driver\n",
    "driver = webdriver.Chrome(r\"C:\\Users\\user\\Downloads\\chromedriver_win32 (1)\\chromedriver.exe\")"
   ]
  },
  {
   "cell_type": "code",
   "execution_count": 15,
   "metadata": {},
   "outputs": [],
   "source": [
    "driver.get(\"https://www.flipkart.com/\")"
   ]
  },
  {
   "cell_type": "code",
   "execution_count": 16,
   "metadata": {},
   "outputs": [],
   "source": [
    "btn1=driver.find_element_by_xpath(\"//button[@class='_2KpZ6l _2doB4z']\")\n",
    "btn1.click()"
   ]
  },
  {
   "cell_type": "code",
   "execution_count": 17,
   "metadata": {},
   "outputs": [],
   "source": [
    "search_field5=driver.find_element_by_xpath(\"/html[1]/body[1]/div[1]/div[1]/div[1]/div[1]/div[2]/div[2]/form[1]/div[1]/div[1]/input[1]\")\n",
    "search_field5.send_keys(\"Printers\")"
   ]
  },
  {
   "cell_type": "code",
   "execution_count": 18,
   "metadata": {},
   "outputs": [],
   "source": [
    "search_btn5=driver.find_element_by_xpath(\"/html[1]/body[1]/div[1]/div[1]/div[1]/div[1]/div[2]/div[2]/form[1]/div[1]/button[1]\")\n",
    "search_btn5.click()"
   ]
  },
  {
   "cell_type": "code",
   "execution_count": 19,
   "metadata": {},
   "outputs": [],
   "source": [
    "try:\n",
    "    for i in range(50):\n",
    "        for j in driver.find_elements_by_xpath(\"//a[@class='_2rpwqI']']\"):\n",
    "            url5.append(j.get_attribute(\"href\"))\n",
    "        next_button=driver.find_element_by_xpath(\"//a[@class='_1LKTO3']\").click()\n",
    "        sleep(6)\n",
    "except(NoSuchElementException, WebDriverException, TimeoutException):\n",
    "    pass"
   ]
  },
  {
   "cell_type": "code",
   "execution_count": 10,
   "metadata": {},
   "outputs": [],
   "source": [
    "for i in url5:\n",
    "    driver.get(i)\n",
    "    time.sleep(3)\n",
    "     #Fetching brand\n",
    "    try:\n",
    "        rating5=driver.find_element_by_xpath(\"//div[@class='_2d4LTz']\")\n",
    "        Ratings5.append(rating5.text.replace(\"/n\",\"new line\"))\n",
    "    except (NoSuchElementException, WebDriverException, TimeoutException):\n",
    "        pass\n",
    "     #Fetching variant\n",
    "    try:\n",
    "        review5=driver.find_element_by_xpath(\"//div[@class='t-ZTKy']/div/div\")\n",
    "        Review5.append(review5.text.replace(\"/n\",\"new line\"))\n",
    "    except (NoSuchElementException, WebDriverException, TimeoutException):\n",
    "        pass"
   ]
  },
  {
   "cell_type": "code",
   "execution_count": 11,
   "metadata": {},
   "outputs": [
    {
     "data": {
      "text/plain": [
       "[]"
      ]
     },
     "execution_count": 11,
     "metadata": {},
     "output_type": "execute_result"
    }
   ],
   "source": [
    "Ratings5"
   ]
  },
  {
   "cell_type": "code",
   "execution_count": null,
   "metadata": {},
   "outputs": [],
   "source": []
  }
 ],
 "metadata": {
  "kernelspec": {
   "display_name": "Python 3",
   "language": "python",
   "name": "python3"
  },
  "language_info": {
   "codemirror_mode": {
    "name": "ipython",
    "version": 3
   },
   "file_extension": ".py",
   "mimetype": "text/x-python",
   "name": "python",
   "nbconvert_exporter": "python",
   "pygments_lexer": "ipython3",
   "version": "3.8.5"
  }
 },
 "nbformat": 4,
 "nbformat_minor": 4
}
